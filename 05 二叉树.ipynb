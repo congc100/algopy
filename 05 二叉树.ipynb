{
 "cells": [
  {
   "cell_type": "markdown",
   "metadata": {},
   "source": [
    "## 例题（一）"
   ]
  },
  {
   "cell_type": "markdown",
   "metadata": {},
   "source": [
    "### \t104. 二叉树的最大深度\n",
    "\n",
    "https://leetcode.cn/problems/maximum-depth-of-binary-tree/"
   ]
  },
  {
   "cell_type": "markdown",
   "metadata": {},
   "source": [
    "## 课后作业"
   ]
  },
  {
   "cell_type": "markdown",
   "metadata": {},
   "source": [
    "### 111. 二叉树的最小深度\n",
    "\n",
    "https://leetcode.cn/problems/minimum-depth-of-binary-tree/"
   ]
  },
  {
   "cell_type": "markdown",
   "metadata": {},
   "source": [
    "### 112. 路径总和\n",
    "\n",
    "https://leetcode.cn/problems/path-sum/"
   ]
  },
  {
   "cell_type": "markdown",
   "metadata": {},
   "source": [
    "### 129. 求根节点到叶节点数字之和\n",
    "\n",
    "https://leetcode.cn/problems/sum-root-to-leaf-numbers/"
   ]
  },
  {
   "cell_type": "markdown",
   "metadata": {},
   "source": [
    "### 1448. 统计二叉树中好节点的数目\n",
    "\n",
    "https://leetcode.cn/problems/count-good-nodes-in-binary-tree/"
   ]
  },
  {
   "cell_type": "markdown",
   "metadata": {},
   "source": [
    "### 987. 二叉树的垂序遍历\n",
    "\n",
    "https://leetcode.cn/problems/vertical-order-traversal-of-a-binary-tree/"
   ]
  },
  {
   "cell_type": "markdown",
   "metadata": {},
   "source": [
    "## 例题（二）"
   ]
  },
  {
   "cell_type": "markdown",
   "metadata": {},
   "source": [
    "### 100. 相同的树\n",
    "\n",
    "https://leetcode.cn/problems/same-tree/"
   ]
  },
  {
   "cell_type": "markdown",
   "metadata": {},
   "source": [
    "### 101. 对称二叉树\n",
    "\n",
    "https://leetcode.cn/problems/symmetric-tree/"
   ]
  },
  {
   "cell_type": "markdown",
   "metadata": {},
   "source": [
    "### 110. 平衡二叉树\n",
    "\n",
    "https://leetcode.cn/problems/balanced-binary-tree/"
   ]
  },
  {
   "cell_type": "markdown",
   "metadata": {},
   "source": [
    "### 199. 二叉树的右视图\n",
    "\n",
    "https://leetcode.cn/problems/binary-tree-right-side-view/"
   ]
  },
  {
   "cell_type": "markdown",
   "metadata": {},
   "source": [
    "## 课后作业"
   ]
  },
  {
   "cell_type": "markdown",
   "metadata": {},
   "source": [
    "### 226. 翻转二叉树\n",
    "\n",
    "https://leetcode.cn/problems/invert-binary-tree/"
   ]
  },
  {
   "cell_type": "markdown",
   "metadata": {},
   "source": [
    "### 617. 合并二叉树\n",
    "\n",
    "https://leetcode.cn/problems/merge-two-binary-trees/"
   ]
  },
  {
   "cell_type": "markdown",
   "metadata": {},
   "source": [
    "### 1026. 节点与其祖先之间的最大差值\n",
    "\n",
    "https://leetcode.cn/problems/maximum-difference-between-node-and-ancestor/"
   ]
  },
  {
   "cell_type": "markdown",
   "metadata": {},
   "source": [
    "### 1080. 根到叶路径上的不足节点\n",
    "\n",
    "https://leetcode.cn/problems/insufficient-nodes-in-root-to-leaf-paths/"
   ]
  },
  {
   "cell_type": "markdown",
   "metadata": {},
   "source": [
    "## 例题（三）"
   ]
  },
  {
   "cell_type": "markdown",
   "metadata": {},
   "source": [
    "### 98. 验证二叉搜索树\n",
    "\n",
    "https://leetcode.cn/problems/validate-binary-search-tree/"
   ]
  },
  {
   "cell_type": "markdown",
   "metadata": {},
   "source": [
    "## 课后作业"
   ]
  },
  {
   "cell_type": "markdown",
   "metadata": {},
   "source": [
    "### 938. 二叉搜索树的范围和\n",
    "\n",
    "https://leetcode.cn/problems/range-sum-of-bst/"
   ]
  },
  {
   "cell_type": "markdown",
   "metadata": {},
   "source": [
    "### 2476. 二叉搜索树最近节点查询\n",
    "\n",
    "https://leetcode.cn/problems/closest-nodes-queries-in-a-binary-search-tree/"
   ]
  },
  {
   "cell_type": "markdown",
   "metadata": {},
   "source": [
    "### 230. 二叉搜索树中第 K 小的元素\n",
    "\n",
    "https://leetcode.cn/problems/kth-smallest-element-in-a-bst/"
   ]
  },
  {
   "cell_type": "markdown",
   "metadata": {},
   "source": [
    "### 1373. 二叉搜索子树的最大键值和\n",
    "\n",
    "https://leetcode.cn/problems/maximum-sum-bst-in-binary-tree/"
   ]
  },
  {
   "cell_type": "markdown",
   "metadata": {},
   "source": [
    "### 105. 从前序与中序遍历序列构造二叉树\n",
    "\n",
    "https://leetcode.cn/problems/construct-binary-tree-from-preorder-and-inorder-traversal/"
   ]
  },
  {
   "cell_type": "markdown",
   "metadata": {},
   "source": [
    "### 106. 从中序与后序遍历序列构造二叉树\n",
    "\n",
    "https://leetcode.cn/problems/construct-binary-tree-from-inorder-and-postorder-traversal/"
   ]
  },
  {
   "cell_type": "markdown",
   "metadata": {},
   "source": [
    "### 889. 根据前序和后序遍历构造二叉树\n",
    "\n",
    "https://leetcode.cn/problems/construct-binary-tree-from-preorder-and-postorder-traversal/"
   ]
  },
  {
   "cell_type": "markdown",
   "metadata": {},
   "source": [
    "### 1110. 删点成林\n",
    "\n",
    "https://leetcode.cn/problems/delete-nodes-and-return-forest/"
   ]
  },
  {
   "cell_type": "markdown",
   "metadata": {},
   "source": [
    "## 例题（四）"
   ]
  },
  {
   "cell_type": "markdown",
   "metadata": {},
   "source": [
    "### 236. 二叉树的最近公共祖先\n",
    "\n",
    "https://leetcode.cn/problems/lowest-common-ancestor-of-a-binary-tree/"
   ]
  },
  {
   "cell_type": "markdown",
   "metadata": {},
   "source": [
    "### 235. 二叉搜索树的最近公共祖先\n",
    "\n",
    "https://leetcode.cn/problems/lowest-common-ancestor-of-a-binary-search-tree/"
   ]
  },
  {
   "cell_type": "markdown",
   "metadata": {},
   "source": [
    "## 课后作业"
   ]
  },
  {
   "cell_type": "markdown",
   "metadata": {},
   "source": [
    "### 1123. 最深叶节点的最近公共祖先\n",
    "\n",
    "https://leetcode.cn/problems/lowest-common-ancestor-of-deepest-leaves/"
   ]
  },
  {
   "cell_type": "markdown",
   "metadata": {},
   "source": [
    "## 例题（五）"
   ]
  },
  {
   "cell_type": "markdown",
   "metadata": {},
   "source": [
    "### 102. 二叉树的层序遍历\n",
    "\n",
    "https://leetcode.cn/problems/binary-tree-level-order-traversal/"
   ]
  },
  {
   "cell_type": "markdown",
   "metadata": {},
   "source": [
    "### 103. 二叉树的锯齿形层序遍历\n",
    "\n",
    "https://leetcode.cn/problems/binary-tree-zigzag-level-order-traversal/"
   ]
  },
  {
   "cell_type": "markdown",
   "metadata": {},
   "source": [
    "### 513. 找树左下角的值\n",
    "\n",
    "https://leetcode.cn/problems/find-bottom-left-tree-value/"
   ]
  },
  {
   "cell_type": "markdown",
   "metadata": {},
   "source": [
    "## 课后作业"
   ]
  },
  {
   "cell_type": "markdown",
   "metadata": {},
   "source": [
    "### 107. 二叉树的层序遍历 II\n",
    "\n",
    "https://leetcode.cn/problems/binary-tree-level-order-traversal-ii/"
   ]
  },
  {
   "cell_type": "markdown",
   "metadata": {},
   "source": [
    "### 116. 填充每个节点的下一个右侧节点指针\n",
    "\n",
    "https://leetcode.cn/problems/populating-next-right-pointers-in-each-node/"
   ]
  },
  {
   "cell_type": "markdown",
   "metadata": {},
   "source": [
    "### 117. 填充每个节点的下一个右侧节点指针 II\n",
    "\n",
    "https://leetcode.cn/problems/populating-next-right-pointers-in-each-node-ii/"
   ]
  },
  {
   "cell_type": "markdown",
   "metadata": {},
   "source": [
    "### 2415. 反转二叉树的奇数层\n",
    "\n",
    "https://leetcode.cn/problems/reverse-odd-levels-of-binary-tree/"
   ]
  },
  {
   "cell_type": "markdown",
   "metadata": {},
   "source": [
    "### 2641. 二叉树的堂兄弟节点 II\n",
    "\n",
    "https://leetcode.cn/problems/cousins-in-binary-tree-ii/"
   ]
  }
 ],
 "metadata": {
  "language_info": {
   "name": "python"
  }
 },
 "nbformat": 4,
 "nbformat_minor": 2
}
