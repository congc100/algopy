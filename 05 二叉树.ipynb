{
 "cells": [
  {
   "cell_type": "code",
   "execution_count": null,
   "metadata": {},
   "outputs": [],
   "source": [
    "from typing import Optional, List\n",
    "from math import inf\n",
    "from collections import defaultdict, deque\n",
    "from bisect import bisect_left\n",
    "\n",
    "class TreeNode:\n",
    "    def __init__(self, val=0, left=None, right=None):\n",
    "        self.val = val\n",
    "        self.left = left\n",
    "        self.right = right"
   ]
  },
  {
   "cell_type": "markdown",
   "metadata": {},
   "source": [
    "## 例题（一）"
   ]
  },
  {
   "cell_type": "markdown",
   "metadata": {},
   "source": [
    "### \t104. 二叉树的最大深度\n",
    "\n",
    "https://leetcode.cn/problems/maximum-depth-of-binary-tree/"
   ]
  },
  {
   "cell_type": "markdown",
   "metadata": {},
   "source": [
    "二叉树的深度是指，根节点到最远叶节点的最长路径上的节点个数\n",
    "\n",
    "不要一开始就陷入细节，而是思考整棵树与其左右子树之间的关系\n",
    "\n",
    "整棵树的最大深度 = max（左子树的最大深度，右子树的最大深度）+ 1\n",
    "\n",
    "原问题：计算整棵树的最大深度，子问题：计算左右子树的最大深度，子问题和原问题是相似的\n",
    "\n",
    "子问题需要把结果返回给上一级问题，因此需要使用递归\n",
    "\n",
    "子问题的规模比原问题小，不断“递”下去，总会有个尽头，即递归的边界条件\n",
    "\n",
    "在本题中，边界条件就是空节点，可以直接返回 0 作为答案\n",
    "\n",
    "这个返回的过程就是递归中的“归”\n",
    "\n",
    "---\n",
    "\n",
    "另一个思路：递归时，除了把节点传下去，同时把路径上的节点个数也传下去\n",
    "\n",
    "根节点这里是 1，它把 1 传下去，递归左子树，它把上面收到的 1 再加 1 得到 2，递归右子树也是一样的\n",
    "\n",
    "递归的同时还需要维护一个全局变量，每次加完 1 之后，就更新全局变量的最大值，完成遍历后，全局变量就是答案"
   ]
  },
  {
   "cell_type": "code",
   "execution_count": null,
   "metadata": {},
   "outputs": [],
   "source": [
    "class Solution:\n",
    "    def maxDepth(self, root: Optional[TreeNode]) -> int:\n",
    "        # 时间复杂度 O(n)，因为每个节点都遍历了一次\n",
    "        # 空间复杂度 O(n)，因为底层使用栈存储了每次递归的结果\n",
    "        if root is None:\n",
    "            return 0\n",
    "        return max(self.maxDepth(root.left), self.maxDepth(root.right)) + 1\n",
    "\n",
    "\n",
    "class Solution:\n",
    "    def maxDepth(self, root: Optional[TreeNode]) -> int:\n",
    "        ans = 0\n",
    "        def f(node, cnt):\n",
    "            if node is None:\n",
    "                return\n",
    "            cnt += 1\n",
    "            # 注意这里的写法\n",
    "            nonlocal ans\n",
    "            ans = max(ans, cnt)\n",
    "            f(node.left, cnt)\n",
    "            f(node.right, cnt)\n",
    "        f(root, 0)\n",
    "        return ans"
   ]
  },
  {
   "cell_type": "markdown",
   "metadata": {},
   "source": [
    "## 课后作业"
   ]
  },
  {
   "cell_type": "markdown",
   "metadata": {},
   "source": [
    "### 111. 二叉树的最小深度\n",
    "\n",
    "https://leetcode.cn/problems/minimum-depth-of-binary-tree/"
   ]
  },
  {
   "cell_type": "code",
   "execution_count": null,
   "metadata": {},
   "outputs": [],
   "source": [
    "class Solution:\n",
    "    def minDepth(self, root: Optional[TreeNode]) -> int:\n",
    "        if root is None:\n",
    "            return 0\n",
    "        ans = inf\n",
    "        def f(node, cnt):\n",
    "            nonlocal ans\n",
    "            cnt += 1\n",
    "            # 最优性剪枝：如果递归中发现 cnt >= ans\n",
    "            # 由于继续向下递归也不会让 ans 变小，直接返回\n",
    "            if cnt >= ans:\n",
    "                return\n",
    "            if node.left is None and node.right is None:\n",
    "                ans = min(ans, cnt)\n",
    "            if node.left is not None:\n",
    "                f(node.left, cnt)\n",
    "            if node.right is not None:\n",
    "                f(node.right, cnt)\n",
    "        f(root, 0)\n",
    "        return ans\n",
    "    \n",
    "\n",
    "class Solution:\n",
    "    def minDepth(self, root: Optional[TreeNode]) -> int:\n",
    "        if root is None:\n",
    "            return 0\n",
    "        # root 是叶子\n",
    "        if root.left is root.right:\n",
    "            return 1\n",
    "        # 如果子节点为空，结果设为 inf\n",
    "        left_depth = self.minDepth(root.left) if root.left else inf\n",
    "        right_depth = self.minDepth(root.right) if root.right else inf\n",
    "        return min(left_depth, right_depth) + 1"
   ]
  },
  {
   "cell_type": "markdown",
   "metadata": {},
   "source": [
    "### 112. 路径总和\n",
    "\n",
    "https://leetcode.cn/problems/path-sum/"
   ]
  },
  {
   "cell_type": "code",
   "execution_count": null,
   "metadata": {},
   "outputs": [],
   "source": [
    "class Solution:\n",
    "    def hasPathSum(self, root: Optional[TreeNode], targetSum: int) -> bool:\n",
    "        if root is None:\n",
    "            return False\n",
    "        s = set()\n",
    "        def f(node, cnt):\n",
    "            nonlocal s\n",
    "            cnt += node.val\n",
    "            if node.left is node.right:\n",
    "                s.add(cnt)\n",
    "            if node.left:\n",
    "                f(node.left, cnt)\n",
    "            if node.right:\n",
    "                f(node.right, cnt)\n",
    "        f(root, 0)\n",
    "        return targetSum in s"
   ]
  },
  {
   "cell_type": "markdown",
   "metadata": {},
   "source": [
    "### 129. 求根节点到叶节点数字之和\n",
    "\n",
    "https://leetcode.cn/problems/sum-root-to-leaf-numbers/"
   ]
  },
  {
   "cell_type": "code",
   "execution_count": null,
   "metadata": {},
   "outputs": [],
   "source": [
    "class Solution:\n",
    "    def sumNumbers(self, root: Optional[TreeNode]) -> int:\n",
    "        ans = list()\n",
    "        def f(node, path):\n",
    "            nonlocal ans\n",
    "            path += str(node.val)\n",
    "            if node.left is node.right:\n",
    "                ans.append(int(path))\n",
    "            if node.left:\n",
    "                f(node.left, path)\n",
    "            if node.right:\n",
    "                f(node.right, path)\n",
    "        f(root, '')\n",
    "        return sum(ans)"
   ]
  },
  {
   "cell_type": "markdown",
   "metadata": {},
   "source": [
    "### 1448. 统计二叉树中好节点的数目\n",
    "\n",
    "https://leetcode.cn/problems/count-good-nodes-in-binary-tree/"
   ]
  },
  {
   "cell_type": "code",
   "execution_count": null,
   "metadata": {},
   "outputs": [],
   "source": [
    "class Solution:\n",
    "    def goodNodes(self, root: Optional[TreeNode]) -> int:\n",
    "        ans = 0\n",
    "        def f(node, n):\n",
    "            if node is None:\n",
    "                return\n",
    "            nonlocal ans\n",
    "            if node.val >= n:\n",
    "                ans += 1\n",
    "            n = max(node.val, n)\n",
    "            f(node.left, n)\n",
    "            f(node.right, n)\n",
    "        f(root, -inf)\n",
    "        return ans"
   ]
  },
  {
   "cell_type": "markdown",
   "metadata": {},
   "source": [
    "### 987. 二叉树的垂序遍历\n",
    "\n",
    "https://leetcode.cn/problems/vertical-order-traversal-of-a-binary-tree/"
   ]
  },
  {
   "cell_type": "code",
   "execution_count": null,
   "metadata": {},
   "outputs": [],
   "source": [
    "class Solution:\n",
    "    def verticalTraversal(self, root: Optional[TreeNode]) -> List[List[int]]:\n",
    "        d = defaultdict(list)\n",
    "        def f(node, row, col):\n",
    "            if node is None:\n",
    "                return\n",
    "            d[col].append((row, node.val))\n",
    "            f(node.left, row+1, col-1)\n",
    "            f(node.right, row+1, col+1)\n",
    "        f(root, 0, 0)\n",
    "        ans = []\n",
    "        for k in sorted(d.keys()):\n",
    "            # 按 row 排序，row 相同则按 val 排序\n",
    "            col = sorted(d[k])\n",
    "            ans.append([p[1] for p in col])\n",
    "        return ans"
   ]
  },
  {
   "cell_type": "markdown",
   "metadata": {},
   "source": [
    "## 例题（二）"
   ]
  },
  {
   "cell_type": "markdown",
   "metadata": {},
   "source": [
    "### 100. 相同的树\n",
    "\n",
    "https://leetcode.cn/problems/same-tree/"
   ]
  },
  {
   "cell_type": "markdown",
   "metadata": {},
   "source": [
    "如何定义相同？首先根节点要相同，其次左右子树要分别相同\n",
    "\n",
    "边界条件：如果两个节点都是空，则返回 true，否则返回 false"
   ]
  },
  {
   "cell_type": "code",
   "execution_count": null,
   "metadata": {},
   "outputs": [],
   "source": [
    "class Solution:\n",
    "    def isSameTree(self, p: Optional[TreeNode], q: Optional[TreeNode]) -> bool:\n",
    "        # 时间/空间复杂度都是 O(n)\n",
    "        if p is None or q is None:\n",
    "            return p is q\n",
    "        if p.val != q.val:\n",
    "            return False\n",
    "        return self.isSameTree(p.left, q.left) and self.isSameTree(p.right, q.right)"
   ]
  },
  {
   "cell_type": "markdown",
   "metadata": {},
   "source": [
    "### 101. 对称二叉树\n",
    "\n",
    "https://leetcode.cn/problems/symmetric-tree/"
   ]
  },
  {
   "cell_type": "markdown",
   "metadata": {},
   "source": [
    "根节点必然对称，要检查左子树和右子树是否对称\n",
    "\n",
    "把这棵树拆成左右两棵树，看根节点是否相同，然后递归处理左的左子树和右的右子树"
   ]
  },
  {
   "cell_type": "code",
   "execution_count": null,
   "metadata": {},
   "outputs": [],
   "source": [
    "class Solution:\n",
    "    def isSymmetric(self, root: Optional[TreeNode]) -> bool:\n",
    "        def f(p, q):\n",
    "            if p is None or q is None:\n",
    "                return p is q\n",
    "            return p.val == q.val and f(p.left, q.right) and f(p.right, q.left)\n",
    "        return f(root.left, root.right)"
   ]
  },
  {
   "cell_type": "markdown",
   "metadata": {},
   "source": [
    "### 110. 平衡二叉树\n",
    "\n",
    "https://leetcode.cn/problems/balanced-binary-tree/"
   ]
  },
  {
   "cell_type": "markdown",
   "metadata": {},
   "source": [
    "通过递归计算左右子树的高度，要在计算高度的过程中判断是否平衡\n",
    "\n",
    "如果在递归中发现这颗树是不平衡的，就返回 -1，父节点收到 -1 就立刻返回，不再递归"
   ]
  },
  {
   "cell_type": "code",
   "execution_count": null,
   "metadata": {},
   "outputs": [],
   "source": [
    "class Solution:\n",
    "    def isBalanced(self, root: Optional[TreeNode]) -> bool:\n",
    "        def f(node):\n",
    "            if node is None:\n",
    "                return 0\n",
    "            l = f(node.left)\n",
    "            if l == -1:\n",
    "                return -1\n",
    "            r = f(node.right)\n",
    "            if r == -1 or abs(l-r) > 1:\n",
    "                return -1\n",
    "            return max(l, r) + 1\n",
    "        return f(root) != -1"
   ]
  },
  {
   "cell_type": "markdown",
   "metadata": {},
   "source": [
    "### 199. 二叉树的右视图\n",
    "\n",
    "https://leetcode.cn/problems/binary-tree-right-side-view/"
   ]
  },
  {
   "cell_type": "markdown",
   "metadata": {},
   "source": [
    "本题一定要先递归右子树，再递归左子树\n",
    "\n",
    "在递归的过程中，要记录当前的递归深度，如果当前深度和答案数组的长度相等，则记入答案"
   ]
  },
  {
   "cell_type": "code",
   "execution_count": null,
   "metadata": {},
   "outputs": [],
   "source": [
    "class Solution:\n",
    "    def rightSideView(self, root: Optional[TreeNode]) -> List[int]:\n",
    "        ans = []\n",
    "        def f(node, depth):\n",
    "            nonlocal ans\n",
    "            if node is None:\n",
    "                return\n",
    "            if depth == len(ans):\n",
    "                ans.append(node.val)\n",
    "            f(node.right, depth+1)\n",
    "            f(node.left, depth+1)\n",
    "        f(root, 0)\n",
    "        return ans"
   ]
  },
  {
   "cell_type": "markdown",
   "metadata": {},
   "source": [
    "## 课后作业"
   ]
  },
  {
   "cell_type": "markdown",
   "metadata": {},
   "source": [
    "### 226. 翻转二叉树\n",
    "\n",
    "https://leetcode.cn/problems/invert-binary-tree/"
   ]
  },
  {
   "cell_type": "code",
   "execution_count": null,
   "metadata": {},
   "outputs": [],
   "source": [
    "class Solution:\n",
    "    def invertTree(self, root: Optional[TreeNode]) -> Optional[TreeNode]:\n",
    "        if root is not None:\n",
    "            tmp = self.invertTree(root.left)\n",
    "            root.left = self.invertTree(root.right)\n",
    "            root.right = tmp\n",
    "        return root"
   ]
  },
  {
   "cell_type": "markdown",
   "metadata": {},
   "source": [
    "### 617. 合并二叉树\n",
    "\n",
    "https://leetcode.cn/problems/merge-two-binary-trees/"
   ]
  },
  {
   "cell_type": "code",
   "execution_count": null,
   "metadata": {},
   "outputs": [],
   "source": [
    "class Solution:\n",
    "    def mergeTrees(self, root1: Optional[TreeNode], root2: Optional[TreeNode]) -> Optional[TreeNode]:\n",
    "        if root1 is None:\n",
    "            return root2\n",
    "        if root2 is None:\n",
    "            return root1\n",
    "        return TreeNode(\n",
    "            val=root1.val + root2.val,\n",
    "            left=self.mergeTrees(root1.left, root2.left),\n",
    "            right=self.mergeTrees(root1.right, root2.right),\n",
    "        )"
   ]
  },
  {
   "cell_type": "markdown",
   "metadata": {},
   "source": [
    "### 1026. 节点与其祖先之间的最大差值\n",
    "\n",
    "https://leetcode.cn/problems/maximum-difference-between-node-and-ancestor/"
   ]
  },
  {
   "cell_type": "code",
   "execution_count": null,
   "metadata": {},
   "outputs": [],
   "source": [
    "class Solution:\n",
    "    def maxAncestorDiff(self, root: Optional[TreeNode]) -> int:\n",
    "        ans = -1\n",
    "        # 记录路径上的最大最小值即可\n",
    "        def f(node, mx, mn):\n",
    "            if node is None:\n",
    "                return\n",
    "            nonlocal ans\n",
    "            ans = max(ans, mx - node.val, node.val - mn)\n",
    "            mx = max(mx, node.val)\n",
    "            mn = min(mn, node.val)\n",
    "            f(node.left, mx, mn)\n",
    "            f(node.right, mx, mn)\n",
    "        f(root, root.val, root.val)\n",
    "        return ans"
   ]
  },
  {
   "cell_type": "markdown",
   "metadata": {},
   "source": [
    "### 1080. 根到叶路径上的不足节点\n",
    "\n",
    "https://leetcode.cn/problems/insufficient-nodes-in-root-to-leaf-paths/"
   ]
  },
  {
   "cell_type": "code",
   "execution_count": null,
   "metadata": {},
   "outputs": [],
   "source": [
    "class Solution:\n",
    "    def sufficientSubset(self, root: Optional[TreeNode], limit: int) -> Optional[TreeNode]:\n",
    "        if root is None:\n",
    "            return None\n",
    "        limit -= root.val\n",
    "        # 对于叶节点，由于根到叶的路径仅有一条\n",
    "        # 所以如果该路径的元素和小于 limit，则删除叶节点\n",
    "        if root.left is root.right:\n",
    "            return None if limit > 0 else root\n",
    "        # 对于非叶节点，如果其子节点均被删除\n",
    "        # 则说明经过当前节点的所有路径和均小于 limit，因此删除\n",
    "        root.left = self.sufficientSubset(root.left, limit)\n",
    "        root.right = self.sufficientSubset(root.right, limit)\n",
    "        return root if root.left or root.right else None"
   ]
  },
  {
   "cell_type": "markdown",
   "metadata": {},
   "source": [
    "## 例题（三）"
   ]
  },
  {
   "cell_type": "markdown",
   "metadata": {},
   "source": [
    "### 98. 验证二叉搜索树\n",
    "\n",
    "https://leetcode.cn/problems/validate-binary-search-tree/"
   ]
  },
  {
   "cell_type": "markdown",
   "metadata": {},
   "source": [
    "二叉搜索树的定义是：左子树所有节点的值小于父节点的值，右子树所有节点的值大于父节点的值，左右子树也都必须是二叉搜索树\n",
    "\n",
    "第一种做法：递归时传入节点取值的开区间范围\n",
    "\n",
    "对于每个节点，先判断它的节点值是否在开区间内，然后再往下递归\n",
    "\n",
    "如果对左子节点递归，就需要将开区间的右边界更新为当前节点的值，如果对右子节点递归，就更新开区间左边界\n",
    "\n",
    "这种先访问节点值，再递归左右子树的方法叫做前序遍历\n",
    "\n",
    "第二种做法：按照左子树-节点值-右子树的顺序遍历，看当前节点值是否大于上一个节点值，这就是中序遍历\n",
    "\n",
    "第三种做法：做法一的前序遍历是把节点值的范围往下传，反过来也可以把节点值的范围网上传\n",
    "\n",
    "这种做法需要先遍历左右子树，再判断节点值，这就是后序遍历"
   ]
  },
  {
   "cell_type": "code",
   "execution_count": null,
   "metadata": {},
   "outputs": [],
   "source": [
    "# 做法一\n",
    "class Solution:\n",
    "    def isValidBST(self, root: Optional[TreeNode], left=-inf, right=inf) -> bool:\n",
    "        if root is None:\n",
    "            return True\n",
    "        v = root.val\n",
    "        return left < v < right and self.isValidBST(root.left, left, v) and self.isValidBST(root.right, v, right)\n",
    "\n",
    "# 做法二\n",
    "class Solution:\n",
    "    pre = -inf\n",
    "    def isValidBST(self, root: Optional[TreeNode]) -> bool:\n",
    "        if root is None:\n",
    "            return True\n",
    "        if not self.isValidBST(root.left):\n",
    "            return False\n",
    "        if root.val <= self.pre:\n",
    "            return False\n",
    "        self.pre = root.val\n",
    "        return self.isValidBST(root.right)\n",
    "\n",
    "# 做法三\n",
    "class Solution:\n",
    "    def isValidBST(self, root: Optional[TreeNode]) -> bool:\n",
    "        # 返回当前节点所代表的子树中所有节点值的范围\n",
    "        def f(node):\n",
    "            if node is None:\n",
    "                # 说明当前没有值\n",
    "                return inf, -inf\n",
    "            l_min, l_max = f(node.left)\n",
    "            r_min, r_max = f(node.right)\n",
    "            x = node.val\n",
    "            if x <= l_max or x >= r_min:\n",
    "                # 不满足条件，直接使记录失效\n",
    "                return -inf, inf\n",
    "            # 这里取最小最大值是为了处理之前没有值的情况\n",
    "            return min(l_min, x), max(r_max, x)\n",
    "        # 检查是否因不满足条件导致记录失效\n",
    "        return f(root)[1] != inf"
   ]
  },
  {
   "cell_type": "markdown",
   "metadata": {},
   "source": [
    "## 课后作业"
   ]
  },
  {
   "cell_type": "markdown",
   "metadata": {},
   "source": [
    "### 938. 二叉搜索树的范围和\n",
    "\n",
    "https://leetcode.cn/problems/range-sum-of-bst/"
   ]
  },
  {
   "cell_type": "code",
   "execution_count": null,
   "metadata": {},
   "outputs": [],
   "source": [
    "class Solution:\n",
    "    def rangeSumBST(self, root: Optional[TreeNode], low: int, high: int) -> int:\n",
    "        if root is None:\n",
    "            return 0\n",
    "        x = root.val\n",
    "        if x > high:\n",
    "            return self.rangeSumBST(root.left, low, high)\n",
    "        if x < low:\n",
    "            return self.rangeSumBST(root.right, low, high)\n",
    "        return self.rangeSumBST(root.left, low, high) + x + self.rangeSumBST(root.right, low, high)"
   ]
  },
  {
   "cell_type": "markdown",
   "metadata": {},
   "source": [
    "### 2476. 二叉搜索树最近节点查询\n",
    "\n",
    "https://leetcode.cn/problems/closest-nodes-queries-in-a-binary-search-tree/"
   ]
  },
  {
   "cell_type": "code",
   "execution_count": null,
   "metadata": {},
   "outputs": [],
   "source": [
    "class Solution:\n",
    "    def closestNodes(self, root: Optional[TreeNode], queries: List[int]) -> List[List[int]]:\n",
    "        # 题目没说二叉搜索树是平衡的，所以要中序遍历后二分查找\n",
    "        a = []\n",
    "        def f(node):\n",
    "            if node is None:\n",
    "                return\n",
    "            f(node.left)\n",
    "            a.append(node.val)\n",
    "            f(node.right)\n",
    "        f(root)\n",
    "\n",
    "        ans = []\n",
    "        for q in queries:\n",
    "            i = bisect_left(a, q)\n",
    "            if i == len(a):\n",
    "                ans.append([a[i-1], -1])\n",
    "            elif a[i] == q:\n",
    "                ans.append([a[i], a[i]])\n",
    "            elif i == 0:\n",
    "                ans.append([-1, a[i]])\n",
    "            else:\n",
    "                ans.append([a[i-1], a[i]])\n",
    "        return ans"
   ]
  },
  {
   "cell_type": "markdown",
   "metadata": {},
   "source": [
    "### 230. 二叉搜索树中第 K 小的元素\n",
    "\n",
    "https://leetcode.cn/problems/kth-smallest-element-in-a-bst/"
   ]
  },
  {
   "cell_type": "code",
   "execution_count": null,
   "metadata": {},
   "outputs": [],
   "source": [
    "class Solution:\n",
    "    def kthSmallest(self, root: Optional[TreeNode], k: int) -> int:\n",
    "        def f(node):\n",
    "            # 题目保证节点值非负，用 -1 表示没有找到\n",
    "            if node is None:\n",
    "                return -1\n",
    "            # 若答案在左子树中，则直接返回\n",
    "            l = f(node.left)\n",
    "            if l != -1:\n",
    "                return l\n",
    "            #  k 减少 1，表示按照中序遍历访问到了一个节点\n",
    "            nonlocal k\n",
    "            k -= 1\n",
    "            if k == 0:\n",
    "                return node.val\n",
    "            return f(node.right)\n",
    "        return f(root)"
   ]
  },
  {
   "cell_type": "markdown",
   "metadata": {},
   "source": [
    "### 1373. 二叉搜索子树的最大键值和\n",
    "\n",
    "https://leetcode.cn/problems/maximum-sum-bst-in-binary-tree/"
   ]
  },
  {
   "cell_type": "code",
   "execution_count": null,
   "metadata": {},
   "outputs": [],
   "source": [
    "class Solution:\n",
    "    def maxSumBST(self, root: Optional[TreeNode]) -> int:\n",
    "        # 在后序遍历验证二叉搜索树的基础上，计算当前子树全部节点之和\n",
    "        ans = 0\n",
    "        def f(root):\n",
    "            if root is None:\n",
    "                return 0, inf, -inf\n",
    "            l_sum, l_min, l_max = f(root.left)\n",
    "            r_sum, r_min, r_max = f(root.right)\n",
    "            x = root.val\n",
    "            # 如果当前子树不是二叉搜索树，那么以当前子树为左右子树的树也不会是\n",
    "            if x <= l_max or x >= r_min:\n",
    "                return 0, -inf, inf\n",
    "            # 计算当前子树全部节点之和，更新结果\n",
    "            s = l_sum + r_sum + x\n",
    "            nonlocal ans\n",
    "            ans = max(ans, s)\n",
    "            return s, min(l_min, x), max(r_max, x)\n",
    "        f(root)\n",
    "        return ans"
   ]
  },
  {
   "cell_type": "markdown",
   "metadata": {},
   "source": [
    "### 105. 从前序与中序遍历序列构造二叉树\n",
    "\n",
    "https://leetcode.cn/problems/construct-binary-tree-from-preorder-and-inorder-traversal/"
   ]
  },
  {
   "cell_type": "code",
   "execution_count": null,
   "metadata": {},
   "outputs": [],
   "source": [
    "class Solution:\n",
    "    def buildTree(self, preorder: List[int], inorder: List[int]) -> Optional[TreeNode]:\n",
    "        if len(preorder) == 0:\n",
    "            return None\n",
    "        i = inorder.index(preorder[0])\n",
    "        left = self.buildTree(preorder[1:1+i], inorder[:i])\n",
    "        right = self.buildTree(preorder[1+i:], inorder[i+1:])\n",
    "        return TreeNode(preorder[0], left, right)"
   ]
  },
  {
   "cell_type": "markdown",
   "metadata": {},
   "source": [
    "### 106. 从中序与后序遍历序列构造二叉树\n",
    "\n",
    "https://leetcode.cn/problems/construct-binary-tree-from-inorder-and-postorder-traversal/"
   ]
  },
  {
   "cell_type": "code",
   "execution_count": null,
   "metadata": {},
   "outputs": [],
   "source": [
    "class Solution:\n",
    "    def buildTree(self, inorder: List[int], postorder: List[int]) -> Optional[TreeNode]:\n",
    "        if not inorder:\n",
    "            return None\n",
    "        i = inorder.index(postorder[-1])\n",
    "        left = self.buildTree(inorder[:i], postorder[:i])\n",
    "        right = self.buildTree(inorder[i+1:], postorder[i:-1])\n",
    "        return TreeNode(postorder[-1], left, right)"
   ]
  },
  {
   "cell_type": "markdown",
   "metadata": {},
   "source": [
    "### 889. 根据前序和后序遍历构造二叉树\n",
    "\n",
    "https://leetcode.cn/problems/construct-binary-tree-from-preorder-and-postorder-traversal/"
   ]
  },
  {
   "cell_type": "code",
   "execution_count": null,
   "metadata": {},
   "outputs": [],
   "source": [
    "class Solution:\n",
    "    def constructFromPrePost(self, preorder: List[int], postorder: List[int]) -> Optional[TreeNode]:\n",
    "        if not preorder:\n",
    "            return None\n",
    "        if len(preorder) == 1:\n",
    "            return TreeNode(preorder[0])\n",
    "        # 存在多个答案，不妨规定在前序遍历中 preorder[1] 都是左子树的根节点值\n",
    "        i = postorder.index(preorder[1])\n",
    "        left = self.constructFromPrePost(preorder[1:i+2], postorder[:i+1])\n",
    "        right = self.constructFromPrePost(preorder[i+2:], postorder[i+1:-1])\n",
    "        return TreeNode(preorder[0], left, right)"
   ]
  },
  {
   "cell_type": "markdown",
   "metadata": {},
   "source": [
    "### 1110. 删点成林\n",
    "\n",
    "https://leetcode.cn/problems/delete-nodes-and-return-forest/"
   ]
  },
  {
   "cell_type": "code",
   "execution_count": null,
   "metadata": {},
   "outputs": [],
   "source": [
    "class Solution:\n",
    "    def delNodes(self, root: Optional[TreeNode], to_delete: List[int]) -> List[TreeNode]:\n",
    "        s = set(to_delete)\n",
    "        ans = []\n",
    "        def f(node):\n",
    "            if node is None:\n",
    "                return None\n",
    "            # 后序遍历\n",
    "            node.left = f(node.left)\n",
    "            node.right = f(node.right)\n",
    "            if node.val not in s:\n",
    "                return node\n",
    "            # 如果当前节点被删除但子节点没有，那么子节点是一棵树的根节点\n",
    "            if node.left:\n",
    "                ans.append(node.left)\n",
    "            if node.right:\n",
    "                ans.append(node.right)\n",
    "            return None\n",
    "        if f(root):\n",
    "            ans.append(root)\n",
    "        return ans"
   ]
  },
  {
   "cell_type": "markdown",
   "metadata": {},
   "source": [
    "## 例题（四）"
   ]
  },
  {
   "cell_type": "markdown",
   "metadata": {},
   "source": [
    "### 236. 二叉树的最近公共祖先\n",
    "\n",
    "https://leetcode.cn/problems/lowest-common-ancestor-of-a-binary-tree/"
   ]
  },
  {
   "cell_type": "code",
   "execution_count": null,
   "metadata": {},
   "outputs": [],
   "source": [
    "class Solution:\n",
    "    def lowestCommonAncestor(self, root: 'TreeNode', p: 'TreeNode', q: 'TreeNode') -> 'TreeNode':\n",
    "        # 检查当前节点\n",
    "        # 如果当前节点为 p 或 q，返回当前节点\n",
    "        if root is None or root is p or root is q:\n",
    "            return root\n",
    "        # 否则，考虑 p 或 q 出现在子树的情况\n",
    "        # 如果左右子树都有 p 或 q 出现，那么说明当前节点就是最近公共祖先\n",
    "        l = self.lowestCommonAncestor(root.left, p, q)\n",
    "        r = self.lowestCommonAncestor(root.right, p, q)\n",
    "        if l and r:\n",
    "            return root\n",
    "        # 如果仅一边出现，那么返回那一边的检查结果\n",
    "        if l: return l\n",
    "        if r: return r\n",
    "        return None"
   ]
  },
  {
   "cell_type": "markdown",
   "metadata": {},
   "source": [
    "### 235. 二叉搜索树的最近公共祖先\n",
    "\n",
    "https://leetcode.cn/problems/lowest-common-ancestor-of-a-binary-search-tree/"
   ]
  },
  {
   "cell_type": "code",
   "execution_count": null,
   "metadata": {},
   "outputs": [],
   "source": [
    "class Solution:\n",
    "    def lowestCommonAncestor(self, root: 'TreeNode', p: 'TreeNode', q: 'TreeNode') -> 'TreeNode':\n",
    "        if root is None or root is p or root is q:\n",
    "            return root\n",
    "        if p.val < root.val and q.val < root.val:\n",
    "            return self.lowestCommonAncestor(root.left, p, q)\n",
    "        if p.val > root.val and q.val > root.val:\n",
    "            return self.lowestCommonAncestor(root.right, p, q)\n",
    "        return root"
   ]
  },
  {
   "cell_type": "markdown",
   "metadata": {},
   "source": [
    "## 课后作业"
   ]
  },
  {
   "cell_type": "markdown",
   "metadata": {},
   "source": [
    "### 1123. 最深叶节点的最近公共祖先\n",
    "\n",
    "https://leetcode.cn/problems/lowest-common-ancestor-of-deepest-leaves/"
   ]
  },
  {
   "cell_type": "code",
   "execution_count": null,
   "metadata": {},
   "outputs": [],
   "source": [
    "class Solution:\n",
    "    def lcaDeepestLeaves(self, root: Optional[TreeNode]) -> Optional[TreeNode]:\n",
    "        # 把每棵子树都看成子问题，对于每棵子树\n",
    "        # 需要计算子树高度，找到最深叶节点的最近公共祖先\n",
    "        def f(node):\n",
    "            if node is None:\n",
    "                return 0, None\n",
    "            left_h, left_res = f(node.left)\n",
    "            right_h, right_res = f(node.right)\n",
    "            if left_h == right_h:\n",
    "                return left_h + 1, node\n",
    "            elif left_h < right_h:\n",
    "                # 如果右子树更高，那么它的结果就是当前结果\n",
    "                return right_h + 1, right_res\n",
    "            else:\n",
    "                return left_h + 1, left_res\n",
    "        return f(root)[1]"
   ]
  },
  {
   "cell_type": "markdown",
   "metadata": {},
   "source": [
    "## 例题（五）"
   ]
  },
  {
   "cell_type": "markdown",
   "metadata": {},
   "source": [
    "### 102. 二叉树的层序遍历\n",
    "\n",
    "https://leetcode.cn/problems/binary-tree-level-order-traversal/"
   ]
  },
  {
   "cell_type": "code",
   "execution_count": null,
   "metadata": {},
   "outputs": [],
   "source": [
    "class Solution:\n",
    "    def levelOrder(self, root: Optional[TreeNode]) -> List[List[int]]:\n",
    "        if root is None:\n",
    "            return []\n",
    "        ans = []\n",
    "        cur = [root]\n",
    "        nxt = []\n",
    "        while len(cur) > 0:\n",
    "            level = []\n",
    "            for node in cur:\n",
    "                level.append(node.val)\n",
    "                if node.left: nxt.append(node.left)\n",
    "                if node.right: nxt.append(node.right)\n",
    "            ans.append(level)\n",
    "            cur = nxt\n",
    "            nxt = []\n",
    "        return ans"
   ]
  },
  {
   "cell_type": "markdown",
   "metadata": {},
   "source": [
    "### 103. 二叉树的锯齿形层序遍历\n",
    "\n",
    "https://leetcode.cn/problems/binary-tree-zigzag-level-order-traversal/"
   ]
  },
  {
   "cell_type": "code",
   "execution_count": null,
   "metadata": {},
   "outputs": [],
   "source": [
    "class Solution:\n",
    "    def zigzagLevelOrder(self, root: Optional[TreeNode]) -> List[List[int]]:\n",
    "        if root is None:\n",
    "            return []\n",
    "        ans = []\n",
    "        q = deque([root])\n",
    "        direct = 0\n",
    "        while q:\n",
    "            direct += 1\n",
    "            level = []\n",
    "            for _ in range(len(q)):\n",
    "                node = q.popleft()\n",
    "                level.append(node.val)\n",
    "                if direct % 2 == 1:\n",
    "                    if node.left: q.append(node.left)\n",
    "                    if node.right: q.append(node.right)\n",
    "                else:\n",
    "                    if node.right: q.append(node.right)\n",
    "                    if node.left: q.append(node.left)\n",
    "            ans.append(level)\n",
    "            q.reverse()\n",
    "        return ans"
   ]
  },
  {
   "cell_type": "markdown",
   "metadata": {},
   "source": [
    "### 513. 找树左下角的值\n",
    "\n",
    "https://leetcode.cn/problems/find-bottom-left-tree-value/"
   ]
  },
  {
   "cell_type": "code",
   "execution_count": null,
   "metadata": {},
   "outputs": [],
   "source": [
    "class Solution:\n",
    "    def findBottomLeftValue(self, root: Optional[TreeNode]) -> int:\n",
    "        ans = []\n",
    "        cur = deque([root])\n",
    "        while cur:\n",
    "            size = len(cur)\n",
    "            for _ in range(size):\n",
    "                node = cur.popleft()\n",
    "                if node.left: cur.append(node.left)\n",
    "                if node.right: cur.append(node.right)\n",
    "                ans.append(node.val)\n",
    "            if len(cur) == 0:\n",
    "                return ans[-size]"
   ]
  },
  {
   "cell_type": "markdown",
   "metadata": {},
   "source": [
    "## 课后作业"
   ]
  },
  {
   "cell_type": "markdown",
   "metadata": {},
   "source": [
    "### 107. 二叉树的层序遍历 II\n",
    "\n",
    "https://leetcode.cn/problems/binary-tree-level-order-traversal-ii/"
   ]
  },
  {
   "cell_type": "code",
   "execution_count": null,
   "metadata": {},
   "outputs": [],
   "source": [
    "class Solution:\n",
    "    def levelOrderBottom(self, root: Optional[TreeNode]) -> List[List[int]]:\n",
    "        if root is None:\n",
    "            return []\n",
    "        ans = []\n",
    "        q = deque([root])\n",
    "        while q:\n",
    "            level = []\n",
    "            for _ in range(len(q)):\n",
    "                node = q.popleft()\n",
    "                level.append(node.val)\n",
    "                if node.left: q.append(node.left)\n",
    "                if node.right: q.append(node.right)\n",
    "            ans.append(level)\n",
    "        ans.reverse()\n",
    "        return ans"
   ]
  },
  {
   "cell_type": "markdown",
   "metadata": {},
   "source": [
    "### 116. 填充每个节点的下一个右侧节点指针\n",
    "\n",
    "https://leetcode.cn/problems/populating-next-right-pointers-in-each-node/"
   ]
  },
  {
   "cell_type": "code",
   "execution_count": null,
   "metadata": {},
   "outputs": [],
   "source": [
    "class Node:\n",
    "    def __init__(self, val: int = 0, left: 'Node' = None, right: 'Node' = None, next: 'Node' = None):\n",
    "        self.val = val\n",
    "        self.left = left\n",
    "        self.right = right\n",
    "        self.next = next\n",
    "\n",
    "class Solution:\n",
    "    def connect(self, root: 'Optional[Node]') -> 'Optional[Node]':\n",
    "        if root is None:\n",
    "            return None\n",
    "        q = deque([root])\n",
    "        while q:\n",
    "            for _ in range(len(q)):\n",
    "                node = q.popleft()\n",
    "                if node.left: q.append(node.left)\n",
    "                if node.right: q.append(node.right)\n",
    "            for i in range(len(q) - 1):\n",
    "                q[i].next = q[i+1]\n",
    "        return root"
   ]
  },
  {
   "cell_type": "markdown",
   "metadata": {},
   "source": [
    "### 117. 填充每个节点的下一个右侧节点指针 II\n",
    "\n",
    "https://leetcode.cn/problems/populating-next-right-pointers-in-each-node-ii/"
   ]
  },
  {
   "cell_type": "code",
   "execution_count": null,
   "metadata": {},
   "outputs": [],
   "source": [
    "class Solution:\n",
    "    def connect(self, root: 'Node') -> 'Node':\n",
    "        pre = []\n",
    "        def dfs(node: 'Node', depth: int) -> None:\n",
    "            if node is None:\n",
    "                return\n",
    "            if depth == len(pre):  # node 是这一层最左边的节点\n",
    "                pre.append(node)\n",
    "            else:  # pre[depth] 是 node 左边的节点\n",
    "                pre[depth].next = node  # node 左边的节点指向 node\n",
    "                pre[depth] = node\n",
    "            dfs(node.left, depth + 1)\n",
    "            dfs(node.right, depth + 1)\n",
    "        dfs(root, 0)  # 根节点的深度为 0\n",
    "        return root"
   ]
  },
  {
   "cell_type": "markdown",
   "metadata": {},
   "source": [
    "### 2415. 反转二叉树的奇数层\n",
    "\n",
    "https://leetcode.cn/problems/reverse-odd-levels-of-binary-tree/"
   ]
  },
  {
   "cell_type": "code",
   "execution_count": null,
   "metadata": {},
   "outputs": [],
   "source": [
    "class Solution:\n",
    "    def reverseOddLevels(self, root: Optional[TreeNode]) -> Optional[TreeNode]:\n",
    "        if root is None:\n",
    "            return None\n",
    "        q = deque([root])\n",
    "        depth = 0\n",
    "        while q:\n",
    "            ns = []\n",
    "            vs = []\n",
    "            for _ in range(len(q)):\n",
    "                node = q.popleft()\n",
    "                ns.append(node)\n",
    "                vs.append(node.val)\n",
    "                if node.left: q.append(node.left)\n",
    "                if node.right: q.append(node.right)\n",
    "            vs.reverse()\n",
    "            if depth % 2 == 1:\n",
    "                for (node, v) in zip(ns, vs):\n",
    "                    node.val = v\n",
    "            depth += 1\n",
    "        return root"
   ]
  },
  {
   "cell_type": "markdown",
   "metadata": {},
   "source": [
    "### 2641. 二叉树的堂兄弟节点 II\n",
    "\n",
    "https://leetcode.cn/problems/cousins-in-binary-tree-ii/"
   ]
  },
  {
   "cell_type": "code",
   "execution_count": null,
   "metadata": {},
   "outputs": [],
   "source": [
    "class Solution:\n",
    "    def replaceValueInTree(self, root: Optional[TreeNode]) -> Optional[TreeNode]:\n",
    "        if root is None:\n",
    "            return None\n",
    "        root.val = 0\n",
    "        q = deque([root])\n",
    "        while q:\n",
    "            for _ in range(len(q)):\n",
    "                node = q.popleft()\n",
    "                if node and not node.left is node.right:\n",
    "                    q.append(node.left)\n",
    "                    q.append(node.right)\n",
    "            v = list(map(lambda n: n.val if n else 0, q))\n",
    "            s = sum(v)\n",
    "            for i, node in enumerate(q):\n",
    "                if node:\n",
    "                    if i % 2 == 0:\n",
    "                        node.val = s - v[i] - v[i+1]\n",
    "                    else:\n",
    "                        node.val = s - v[i] - v[i-1]\n",
    "        return root"
   ]
  }
 ],
 "metadata": {
  "kernelspec": {
   "display_name": "base",
   "language": "python",
   "name": "python3"
  },
  "language_info": {
   "name": "python",
   "version": "3.12.3"
  }
 },
 "nbformat": 4,
 "nbformat_minor": 2
}
