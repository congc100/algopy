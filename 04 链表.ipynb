{
 "cells": [
  {
   "cell_type": "code",
   "execution_count": null,
   "metadata": {},
   "outputs": [],
   "source": [
    "from typing import *\n",
    "from math import inf\n",
    "from collections import defaultdict\n",
    "\n",
    "# Definition for singly-linked list\n",
    "class ListNode:\n",
    "    def __init__(self, val=0, next=None):\n",
    "        self.val = val\n",
    "        self.next = next"
   ]
  },
  {
   "cell_type": "markdown",
   "metadata": {},
   "source": [
    "## 例题（一）"
   ]
  },
  {
   "cell_type": "markdown",
   "metadata": {},
   "source": [
    "### 206. 反转链表\n",
    "\n",
    "https://leetcode.cn/problems/reverse-linked-list/"
   ]
  },
  {
   "cell_type": "markdown",
   "metadata": {},
   "source": [
    "如果要反转一个链表，链表头节点的 next 要指向空，链表其余节点的 next 要指向它上一个节点\n",
    "\n",
    "在实现时，使用变量 *cur* 表示当前遍历到的节点，*pre* 表示上一个节点\n",
    "\n",
    "初始 *pre* 为空，因此对于所有节点来说，要做的就是把 *cur*.next 修改为 *pre*\n",
    "\n",
    "但两个变量是不够的，因为一旦修改了当前的 *cur*.next，我们就无法知道它原本指向的是谁了\n",
    "\n",
    "所以在修改之前，需要用变量 *nxt* 来记录当前节点原本的 next 指向的是谁\n",
    "\n",
    "当前节点更新完成后，*pre* 更新为 *cur*，*cur* 更新为 *nxt*\n",
    "\n",
    "如此循环直到反转结束，此时 *cur* 等于结尾的空，*pre* 等于原来链表的最后一个节点，也就是反转后链表的头节点"
   ]
  },
  {
   "cell_type": "code",
   "execution_count": null,
   "metadata": {},
   "outputs": [],
   "source": [
    "class Solution:\n",
    "    def reverseList(self, head: Optional[ListNode]) -> Optional[ListNode]:\n",
    "        pre = None\n",
    "        cur = head\n",
    "        while cur:\n",
    "            nxt = cur.next\n",
    "            cur.next = pre\n",
    "            pre = cur\n",
    "            cur = nxt\n",
    "        return pre"
   ]
  },
  {
   "cell_type": "markdown",
   "metadata": {},
   "source": [
    "### 92. 反转链表 II\n",
    "\n",
    "https://leetcode.cn/problems/reverse-linked-list-ii/"
   ]
  },
  {
   "cell_type": "markdown",
   "metadata": {},
   "source": [
    "如果要反转链表的一部分，那么需要用到这样的性质：\n",
    "\n",
    "从原链表来看，反转结束后，*pre* 指向反转段的末尾，*cur* 指向反转段的后一个节点\n",
    "\n",
    "在完成部分反转后，将反转段原本起始节点的 next 指向 *cur*，将反转段的前一个节点的 next 指向 *pre*\n",
    "\n",
    "把反转段的前一个节点叫做 p0，也就是把 p0.next.next 修改为 *cur*，把 p0.next 修改为 *pre*\n",
    "\n",
    "---\n",
    "\n",
    "此外还需要处理特殊情况，如果反转段起始节点为原链表头节点，那么就没有 p0 了\n",
    "\n",
    "解决方法是在头节点前面再加上一个哨兵节点"
   ]
  },
  {
   "cell_type": "code",
   "execution_count": null,
   "metadata": {},
   "outputs": [],
   "source": [
    "class Solution:\n",
    "    def reverseBetween(self, head: Optional[ListNode], left: int, right: int) -> Optional[ListNode]:\n",
    "        # 哨兵节点\n",
    "        dummy = ListNode(next=head)\n",
    "\n",
    "        # 让 p0 指向反转段的前一个节点\n",
    "        p0 = dummy\n",
    "        for _ in range(left-1):\n",
    "            p0 = p0.next\n",
    "\n",
    "        # 从 p0.next 开始反转，反转次数为反转段的长度\n",
    "        pre = None\n",
    "        cur = p0.next\n",
    "        for _ in range(right-left+1):\n",
    "            nxt = cur.next \n",
    "            cur.next = pre \n",
    "            pre = cur \n",
    "            cur = nxt \n",
    "\n",
    "        # 反转后\n",
    "        p0.next.next = cur \n",
    "        p0.next = pre \n",
    "        return dummy.next"
   ]
  },
  {
   "cell_type": "markdown",
   "metadata": {},
   "source": [
    "### 25. K 个一组翻转链表\n",
    "\n",
    "https://leetcode.cn/problems/reverse-nodes-in-k-group/"
   ]
  },
  {
   "cell_type": "markdown",
   "metadata": {},
   "source": [
    "不足 k 个时不能反转，因此我们可以先把链表的长度求出来，反转前先判断下剩余节点个数\n",
    "\n",
    "每段反转的思路和之前一样，额外要做的是，要在每次反转后更新 p0\n",
    "\n",
    "p0 应为下个反转段的前一个节点，也就是原 p0 的 next\n",
    "\n",
    "由于反转后也要对原 p0 的 next 做修改，因此可以用临时变量提前存一下"
   ]
  },
  {
   "cell_type": "code",
   "execution_count": null,
   "metadata": {},
   "outputs": [],
   "source": [
    "class Solution:\n",
    "    def reverseKGroup(self, head: Optional[ListNode], k: int) -> Optional[ListNode]:\n",
    "        # 计算链表长度\n",
    "        n = 0\n",
    "        cur = head\n",
    "        while cur:\n",
    "            n += 1\n",
    "            cur = cur.next\n",
    "        \n",
    "        # 哨兵节点\n",
    "        dummy = ListNode(next=head)\n",
    "        # 让 p0 指向反转段的前一个节点\n",
    "        p0 = dummy\n",
    "\n",
    "        # 剩余节点大于等于 k 个时，才进行反转\n",
    "        while n >= k:\n",
    "            n -= k\n",
    "\n",
    "            # 从 p0.next 开始反转，反转次数为反转段的长度 k\n",
    "            pre = None\n",
    "            cur = p0.next\n",
    "            for _ in range(k):\n",
    "                nxt = cur.next\n",
    "                cur.next = pre \n",
    "                pre = cur \n",
    "                cur = nxt \n",
    "            \n",
    "            # 每次更新 p0 前要提前保存\n",
    "            p0_new = p0.next\n",
    "            p0.next.next = cur \n",
    "            p0.next = pre\n",
    "            p0 = p0_new\n",
    "        \n",
    "        return dummy.next"
   ]
  },
  {
   "cell_type": "markdown",
   "metadata": {},
   "source": [
    "## 课后作业"
   ]
  },
  {
   "cell_type": "markdown",
   "metadata": {},
   "source": [
    "### 24. 两两交换链表中的节点\n",
    "\n",
    "https://leetcode.cn/problems/swap-nodes-in-pairs/"
   ]
  },
  {
   "cell_type": "code",
   "execution_count": null,
   "metadata": {},
   "outputs": [],
   "source": [
    "class Solution:\n",
    "    def swapPairs(self, head: Optional[ListNode]) -> Optional[ListNode]:\n",
    "        n = 0\n",
    "        k = 2\n",
    "        cur = head\n",
    "        while cur:\n",
    "            n += 1\n",
    "            cur = cur.next\n",
    "        \n",
    "        dummy = ListNode(next=head)\n",
    "        p0 = dummy\n",
    "\n",
    "        while n >= k:\n",
    "            n -= k\n",
    "\n",
    "            pre = None\n",
    "            cur = p0.next\n",
    "            for _ in range(k):\n",
    "                nxt = cur.next \n",
    "                cur.next = pre\n",
    "                pre = cur\n",
    "                cur = nxt\n",
    "\n",
    "            p0_new = p0.next\n",
    "            p0.next.next = cur\n",
    "            p0.next = pre\n",
    "            p0 = p0_new\n",
    "        \n",
    "        return dummy.next"
   ]
  },
  {
   "cell_type": "markdown",
   "metadata": {},
   "source": [
    "###  \t445. 两数相加 II\n",
    "\n",
    "https://leetcode.cn/problems/add-two-numbers-ii/"
   ]
  },
  {
   "cell_type": "code",
   "execution_count": null,
   "metadata": {},
   "outputs": [],
   "source": [
    "def reverse(head):\n",
    "    pre = None\n",
    "    cur = head\n",
    "    while cur:\n",
    "        nxt = cur.next\n",
    "        cur.next = pre\n",
    "        pre = cur\n",
    "        cur = nxt\n",
    "    return pre\n",
    "\n",
    "class Solution:\n",
    "    def addTwoNumbers(self, l1: Optional[ListNode], l2: Optional[ListNode]) -> Optional[ListNode]:\n",
    "        dummy = ListNode()\n",
    "        cur = dummy\n",
    "        r1 = reverse(l1)\n",
    "        r2 = reverse(l2)\n",
    "        carry = 0\n",
    "        while r1 or r2 or carry:\n",
    "            s = carry\n",
    "            if r1:\n",
    "                s += r1.val\n",
    "                r1 = r1.next\n",
    "            if r2:\n",
    "                s += r2.val\n",
    "                r2 = r2.next\n",
    "            cur.next = ListNode(val=s % 10)\n",
    "            cur = cur.next\n",
    "            carry = s // 10\n",
    "        return reverse(dummy.next)"
   ]
  },
  {
   "cell_type": "markdown",
   "metadata": {},
   "source": [
    "###  \t2816. 翻倍以链表形式表示的数字\n",
    "\n",
    "https://leetcode.cn/problems/double-a-number-represented-as-a-linked-list/"
   ]
  },
  {
   "cell_type": "code",
   "execution_count": null,
   "metadata": {},
   "outputs": [],
   "source": [
    "def reverse(head):\n",
    "    pre = None\n",
    "    cur = head\n",
    "    while cur:\n",
    "        nxt = cur.next\n",
    "        cur.next = pre\n",
    "        pre = cur\n",
    "        cur = nxt\n",
    "    return pre\n",
    "\n",
    "class Solution:\n",
    "    def doubleIt(self, head: Optional[ListNode]) -> Optional[ListNode]:\n",
    "        if head.val == 0 and head.next is None:\n",
    "            return head\n",
    "        rev = reverse(head)\n",
    "        p0 = dummy = ListNode()\n",
    "        carry = 0\n",
    "        while rev:\n",
    "            v = rev.val * 2 + carry\n",
    "            p0.next = ListNode(val=v % 10)\n",
    "            carry = v // 10\n",
    "            p0 = p0.next\n",
    "            rev = rev.next\n",
    "        if carry:\n",
    "            p0.next = ListNode(val=carry)\n",
    "        return reverse(dummy.next)"
   ]
  },
  {
   "cell_type": "markdown",
   "metadata": {},
   "source": [
    "## 例题（二）"
   ]
  },
  {
   "cell_type": "markdown",
   "metadata": {},
   "source": [
    "### 876. 链表的中间结点\n",
    "\n",
    "https://leetcode.cn/problems/middle-of-the-linked-list/"
   ]
  },
  {
   "cell_type": "markdown",
   "metadata": {},
   "source": [
    "可以用两个指针指向链表的头节点，每次循环慢指针走一步，快指针走两步\n",
    "\n",
    "链表长度为奇数时，如果快指针在尾节点，那么慢指针一定在中间节点\n",
    "\n",
    "链表长度为偶数时，如果快指针指向空，那么慢指针一定在中间节点（第二个中间节点）\n",
    "\n",
    "总和考虑上面两种情况，当快指针指向空，或快指针的下一个节点指向空，就退出循环"
   ]
  },
  {
   "cell_type": "code",
   "execution_count": null,
   "metadata": {},
   "outputs": [],
   "source": [
    "class Solution:\n",
    "    def middleNode(self, head: Optional[ListNode]) -> Optional[ListNode]:\n",
    "        slow = fast = head\n",
    "        while fast and fast.next:\n",
    "            slow = slow.next\n",
    "            fast = fast.next.next\n",
    "        return slow"
   ]
  },
  {
   "cell_type": "markdown",
   "metadata": {},
   "source": [
    "### 141. 环形链表\n",
    "\n",
    "https://leetcode.cn/problems/linked-list-cycle/"
   ]
  },
  {
   "cell_type": "markdown",
   "metadata": {},
   "source": [
    "快指针每次循环走两步，慢指针每次循环走一步，如果有环，那么慢指针一定会走到环里\n",
    "\n",
    "使用相对速度的角度思考，快指针相对慢指针每次循环走一步，如果有环，那么一定会遇到慢指针"
   ]
  },
  {
   "cell_type": "code",
   "execution_count": null,
   "metadata": {},
   "outputs": [],
   "source": [
    "class Solution:\n",
    "    def hasCycle(self, head: Optional[ListNode]) -> bool:\n",
    "        slow = fast = head\n",
    "        while fast and fast.next:\n",
    "            slow = slow.next\n",
    "            fast = fast.next.next\n",
    "            if slow is fast:\n",
    "                return True\n",
    "        return False"
   ]
  },
  {
   "cell_type": "markdown",
   "metadata": {},
   "source": [
    "### 142. 环形链表 II\n",
    "\n",
    "https://leetcode.cn/problems/linked-list-cycle-ii/"
   ]
  },
  {
   "cell_type": "markdown",
   "metadata": {},
   "source": [
    "这道题不仅需要判断是否有环，还要找到环的入口\n",
    "\n",
    "设头节点到环入口的距离为 a，从环入口到快慢指针相遇点的距离为 b，从相遇点到环入口的距离为 c\n",
    "\n",
    "根据快指针的速度是慢指针的两倍，可得到等式：$a+b+k(b+c)=2(a+b)$，化简得到：$a=(k-1)(b+c)+c$\n",
    "\n",
    "也就是说，如果让一个指针从头节点出发，慢指针从相遇点继续前进，最后它们的相遇位置就是环入口"
   ]
  },
  {
   "cell_type": "code",
   "execution_count": null,
   "metadata": {},
   "outputs": [],
   "source": [
    "class Solution:\n",
    "    def detectCycle(self, head: Optional[ListNode]) -> Optional[ListNode]:\n",
    "        slow = fast = head\n",
    "        while fast and fast.next:\n",
    "            slow = slow.next\n",
    "            fast = fast.next.next\n",
    "            if slow is fast:\n",
    "                while slow is not head:\n",
    "                    slow = slow.next\n",
    "                    head = head.next\n",
    "                return slow\n",
    "        return None"
   ]
  },
  {
   "cell_type": "markdown",
   "metadata": {},
   "source": [
    "### 143. 重排链表\n",
    "\n",
    "https://leetcode.cn/problems/reorder-list/"
   ]
  },
  {
   "cell_type": "markdown",
   "metadata": {},
   "source": [
    "首先需要找到链表的中间节点，并把它后面的部分反转"
   ]
  },
  {
   "cell_type": "code",
   "execution_count": null,
   "metadata": {},
   "outputs": [],
   "source": [
    "def reverse(head):\n",
    "    pre = None\n",
    "    cur = head\n",
    "    while cur:\n",
    "        nxt = cur.next\n",
    "        cur.next = pre\n",
    "        pre = cur\n",
    "        cur = nxt\n",
    "    return pre\n",
    "\n",
    "def middle(head):\n",
    "    slow = fast = head\n",
    "    while fast and fast.next:\n",
    "        slow = slow.next\n",
    "        fast = fast.next.next\n",
    "    return slow\n",
    "\n",
    "class Solution:\n",
    "    def reorderList(self, head: Optional[ListNode]) -> None:\n",
    "        # 在中间位置切割，并反转后半部分\n",
    "        p1 = head.next\n",
    "        mid = middle(head)\n",
    "        p2 = reverse(mid.next)\n",
    "        mid.next = None\n",
    "        # 重排\n",
    "        while p1 or p2:\n",
    "            if p2:\n",
    "                head.next = p2\n",
    "                p2 = p2.next\n",
    "                head = head.next\n",
    "            if p1:\n",
    "                head.next = p1\n",
    "                p1 = p1.next\n",
    "                head = head.next"
   ]
  },
  {
   "cell_type": "markdown",
   "metadata": {},
   "source": [
    "## 课后作业"
   ]
  },
  {
   "cell_type": "markdown",
   "metadata": {},
   "source": [
    "### 234. 回文链表\n",
    "\n",
    "https://leetcode.cn/problems/palindrome-linked-list/"
   ]
  },
  {
   "cell_type": "code",
   "execution_count": null,
   "metadata": {},
   "outputs": [],
   "source": [
    "class Solution:\n",
    "    def isPalindrome(self, head: Optional[ListNode]) -> bool:\n",
    "        # 寻找链表中间位置\n",
    "        slow = fast = head\n",
    "        while fast and fast.next:\n",
    "            fast = fast.next.next\n",
    "            slow = slow.next\n",
    "        # 反转链表后半部分\n",
    "        # 注意这里考虑到奇数长度的情况，不要断开原链表\n",
    "        pre = None\n",
    "        cur = slow\n",
    "        while cur:\n",
    "            nxt = cur.next\n",
    "            cur.next = pre\n",
    "            pre = cur\n",
    "            cur = nxt\n",
    "        # 逐个比较\n",
    "        while pre:\n",
    "            if head.val != pre.val:\n",
    "                return False\n",
    "            head = head.next\n",
    "            pre = pre.next\n",
    "        return True"
   ]
  },
  {
   "cell_type": "markdown",
   "metadata": {},
   "source": [
    "## 例题（三）"
   ]
  },
  {
   "cell_type": "markdown",
   "metadata": {},
   "source": [
    "### 237. 删除链表中的节点\n",
    "\n",
    "https://leetcode.cn/problems/delete-node-in-a-linked-list/"
   ]
  },
  {
   "cell_type": "markdown",
   "metadata": {},
   "source": [
    "对于单链表来说，要想删除一个节点，我们需要利用它的上一个节点\n",
    "\n",
    "做法就是让上一个节点指向要删除节点的下一个节点\n",
    "\n",
    "如果题目只给出要删除的节点，而不知道它的上一个节点是谁\n",
    "\n",
    "由于题目保证要删除的节点不是链表的最后一个节点，我们可以把下一个节点的值复制过来，然后删掉下一个节点\n",
    "\n",
    "根据题目的要求，给定节点的值不存在于链表中，就达到了删除的效果"
   ]
  },
  {
   "cell_type": "code",
   "execution_count": null,
   "metadata": {},
   "outputs": [],
   "source": [
    "class Solution:\n",
    "    def deleteNode(self, node):\n",
    "        node.val = node.next.val\n",
    "        node.next = node.next.next"
   ]
  },
  {
   "cell_type": "markdown",
   "metadata": {},
   "source": [
    "### 19. 删除链表的倒数第 N 个结点\n",
    "\n",
    "https://leetcode.cn/problems/remove-nth-node-from-end-of-list/"
   ]
  },
  {
   "cell_type": "markdown",
   "metadata": {},
   "source": [
    "如果涉及到删除头节点，那么就需要用到哨兵节点\n",
    "\n",
    "对于本题，如果 N 等于链表长度，那么被删除的会是头节点，因此要使用哨兵节点\n",
    "\n",
    "要删除倒数第 N 个节点，我们需要找到倒数第 N+1 个节点，可以使用双指针来实现"
   ]
  },
  {
   "cell_type": "code",
   "execution_count": null,
   "metadata": {},
   "outputs": [],
   "source": [
    "class Solution:\n",
    "    def removeNthFromEnd(self, head: Optional[ListNode], n: int) -> Optional[ListNode]:\n",
    "        slow = fast = dummy = ListNode(next=head)\n",
    "        for _ in range(n):\n",
    "            fast = fast.next\n",
    "        while fast.next:\n",
    "            fast = fast.next\n",
    "            slow = slow.next\n",
    "        slow.next = slow.next.next\n",
    "        return dummy.next"
   ]
  },
  {
   "cell_type": "markdown",
   "metadata": {},
   "source": [
    "### 83. 删除排序链表中的重复元素\n",
    "\n",
    "https://leetcode.cn/problems/remove-duplicates-from-sorted-list/"
   ]
  },
  {
   "cell_type": "markdown",
   "metadata": {},
   "source": [
    "如果有重复节点，那么只保留一个\n",
    "\n",
    "如果头节点存在重复的情况，我们可以保留头节点（当前节点）而删除之后的，因此不需要哨兵节点"
   ]
  },
  {
   "cell_type": "code",
   "execution_count": null,
   "metadata": {},
   "outputs": [],
   "source": [
    "class Solution:\n",
    "    def deleteDuplicates(self, head: Optional[ListNode]) -> Optional[ListNode]:\n",
    "        cur = head\n",
    "        while cur:\n",
    "            while cur.next and cur.next.val == cur.val:\n",
    "                cur.next = cur.next.next\n",
    "            cur = cur.next\n",
    "        return head"
   ]
  },
  {
   "cell_type": "markdown",
   "metadata": {},
   "source": [
    "### 82. 删除排序链表中的重复元素 II\n",
    "\n",
    "https://leetcode.cn/problems/remove-duplicates-from-sorted-list-ii/"
   ]
  },
  {
   "cell_type": "markdown",
   "metadata": {},
   "source": [
    "本题要把任何重复的元素全部删除，需要哨兵节点\n",
    "\n",
    "从哨兵节点开始遍历，每次检查下个节点和下下个节点的值\n",
    "\n",
    "如果相同，那么就不断往后找，直到遇到不同的节点，删除中间的全部节点\n",
    "\n",
    "如果不同，那么就继续遍历"
   ]
  },
  {
   "cell_type": "code",
   "execution_count": null,
   "metadata": {},
   "outputs": [],
   "source": [
    "class Solution:\n",
    "    def deleteDuplicates(self, head: Optional[ListNode]) -> Optional[ListNode]:\n",
    "        dummy = ListNode(next=head)\n",
    "        cur = dummy\n",
    "        while cur.next:\n",
    "            p = cur.next.next\n",
    "            if p and p.val == cur.next.val:\n",
    "                while p and p.val == cur.next.val:\n",
    "                    p = p.next\n",
    "                cur.next = p\n",
    "            else:\n",
    "                cur = cur.next\n",
    "        return dummy.next"
   ]
  },
  {
   "cell_type": "markdown",
   "metadata": {},
   "source": [
    "## 课后作业"
   ]
  },
  {
   "cell_type": "markdown",
   "metadata": {},
   "source": [
    "### 203. 移除链表元素\n",
    "\n",
    "https://leetcode.cn/problems/remove-linked-list-elements/"
   ]
  },
  {
   "cell_type": "code",
   "execution_count": null,
   "metadata": {},
   "outputs": [],
   "source": [
    "class Solution:\n",
    "    def removeElements(self, head: Optional[ListNode], val: int) -> Optional[ListNode]:\n",
    "        dummy = ListNode(next=head)\n",
    "        cur = dummy\n",
    "        while cur:\n",
    "            while cur.next and cur.next.val == val:\n",
    "                cur.next = cur.next.next\n",
    "            cur = cur.next\n",
    "        return dummy.next"
   ]
  },
  {
   "cell_type": "markdown",
   "metadata": {},
   "source": [
    "### 3217. 从链表中移除在数组中存在的节点\n",
    "\n",
    "https://leetcode.cn/problems/delete-nodes-from-linked-list-present-in-array/"
   ]
  },
  {
   "cell_type": "code",
   "execution_count": null,
   "metadata": {},
   "outputs": [],
   "source": [
    "class Solution:\n",
    "    def modifiedList(self, nums: List[int], head: Optional[ListNode]) -> Optional[ListNode]:\n",
    "        s = set(nums)\n",
    "        cur = dummy = ListNode(next=head)\n",
    "        while cur:\n",
    "            while cur.next and cur.next.val in s:\n",
    "                cur.next = cur.next.next\n",
    "            cur = cur.next\n",
    "        return dummy.next"
   ]
  },
  {
   "cell_type": "markdown",
   "metadata": {},
   "source": [
    "### 2487. 从链表中移除节点\n",
    "\n",
    "https://leetcode.cn/problems/remove-nodes-from-linked-list/"
   ]
  },
  {
   "cell_type": "code",
   "execution_count": null,
   "metadata": {},
   "outputs": [],
   "source": [
    "def reverse(head):\n",
    "    pre = None\n",
    "    cur = head\n",
    "    while cur:\n",
    "        nxt = cur.next\n",
    "        cur.next = pre\n",
    "        pre = cur\n",
    "        cur = nxt\n",
    "    return pre\n",
    "\n",
    "class Solution:\n",
    "    def removeNodes(self, head: Optional[ListNode]) -> Optional[ListNode]:\n",
    "        cur = rev = reverse(head)\n",
    "        while cur:\n",
    "            if cur.next:\n",
    "                while cur.next and cur.next.val < cur.val:\n",
    "                    cur.next = cur.next.next\n",
    "            cur = cur.next\n",
    "        return reverse(rev)"
   ]
  }
 ],
 "metadata": {
  "language_info": {
   "name": "python"
  }
 },
 "nbformat": 4,
 "nbformat_minor": 2
}
