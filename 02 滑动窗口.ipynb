{
 "cells": [
  {
   "cell_type": "code",
   "execution_count": null,
   "metadata": {},
   "outputs": [],
   "source": [
    "from typing import *\n",
    "from math import inf"
   ]
  },
  {
   "cell_type": "markdown",
   "metadata": {},
   "source": [
    "## 例题"
   ]
  },
  {
   "cell_type": "markdown",
   "metadata": {},
   "source": [
    "### 209. 长度最小的子数组\n",
    "\n",
    "https://leetcode.cn/problems/minimum-size-subarray-sum/"
   ]
  },
  {
   "cell_type": "markdown",
   "metadata": {},
   "source": [
    "在子数组/子串问题中，经常会用到双指针方法\n",
    "\n",
    "这道题需要找到一个连续子数组，满足元素和大于等于 target，且长度是最小的\n",
    "\n",
    "如果整个数组的元素和小于 target，那么返回 0\n",
    "\n",
    "先想一想暴力做法怎么做\n",
    "\n",
    "我们可以枚举子数组的左端点，不断向右扩展，直到数组元素和超过 target\n",
    "\n",
    "暴力做法的时间复杂度是 O(n^2)\n",
    "\n",
    "---\n",
    "\n",
    "暴力做法没有用到数组元素都是正数这个条件\n",
    "\n",
    "为了利用好这个条件，我们可以保留上一次的计算结果\n",
    "\n",
    "对于元素和已经大于等于 target 的子数组，再向右拓展一位，由于元素均为正数，所以此时元素和也是大于等于 target 的\n",
    "\n",
    "通过枚举右端点，收缩左端点的方式，把所有满足要求的子数组最短长度都求出来，取最小值\n",
    "\n",
    "右端点从左到右枚举，是 O(n) 的，左端点不断收缩，也是 O(n) 的"
   ]
  },
  {
   "cell_type": "code",
   "execution_count": null,
   "metadata": {},
   "outputs": [],
   "source": [
    "class Solution:\n",
    "    def minSubArrayLen(self, target: int, nums: List[int]) -> int:\n",
    "        # 时间复杂度 O(n)\n",
    "        # 空间复杂度 O(1)\n",
    "        n = len(nums)\n",
    "        ans = inf\n",
    "        left = 0\n",
    "        s = 0\n",
    "        for right, x in enumerate(nums):\n",
    "            s += x\n",
    "            while s >= target:\n",
    "                ans = min(ans, right-left+1)\n",
    "                s -= nums[left]\n",
    "                left += 1\n",
    "        return ans if ans <= n else 0"
   ]
  },
  {
   "cell_type": "markdown",
   "metadata": {},
   "source": [
    "### 713. 乘积小于 K 的子数组\n",
    "\n",
    "https://leetcode.cn/problems/subarray-product-less-than-k/"
   ]
  },
  {
   "cell_type": "markdown",
   "metadata": {},
   "source": [
    "本题计算的是元素的乘积，要求乘积小于 k，计算的是子数组的个数\n",
    "\n",
    "元素都是正数，方法和上一题一样\n",
    "\n",
    "当找到左端点为 l 右端点为 r 的子数组乘积小于 k 时，可以知道如果左端点变成 l + 1 直到 r，乘积也都是小于 k 的\n",
    "\n",
    "子数组的个数就是 l 到 r 的元素个数"
   ]
  },
  {
   "cell_type": "code",
   "execution_count": null,
   "metadata": {},
   "outputs": [],
   "source": [
    "class Solution:\n",
    "    def numSubarrayProductLessThanK(self, nums: List[int], k: int) -> int:\n",
    "        # 严格小于\n",
    "        if k <= 1:\n",
    "            return 0\n",
    "        ans = 0\n",
    "        prod = 1\n",
    "        left = 0\n",
    "        for right, x in enumerate(nums):\n",
    "            prod *= x\n",
    "            while prod >= k:\n",
    "                prod /= nums[left]\n",
    "                left += 1\n",
    "            ans += right - left + 1\n",
    "        return ans"
   ]
  },
  {
   "cell_type": "markdown",
   "metadata": {},
   "source": [
    "### 3. 无重复字符的最长子串\n",
    "\n",
    "https://leetcode.cn/problems/longest-substring-without-repeating-characters/"
   ]
  },
  {
   "cell_type": "markdown",
   "metadata": {},
   "source": [
    "本题需要找一个子串，它不含重复字符，且是最长的\n",
    "\n",
    "每次接入后面一个字符，如果发现有重复元素，就将左端点右移，直到没有重复元素为止\n",
    "\n",
    "由于我们每次都是接到一个没有重复元素的子串后面，所以这个重复的元素一定来自于新接入的字符\n",
    "\n",
    "怎么判断是否有重复字符？可以用哈希表记录字符的出现次数"
   ]
  },
  {
   "cell_type": "code",
   "execution_count": null,
   "metadata": {},
   "outputs": [],
   "source": [
    "class Solution:\n",
    "    def lengthOfLongestSubstring(self, s: str) -> int:\n",
    "        # 时间复杂度 O(n)\n",
    "        # 空间复杂度 O(len(set(s)))\n",
    "        c = Counter()\n",
    "        ans = 0\n",
    "        left = 0\n",
    "        for right, x in enumerate(s):\n",
    "            c[x] += 1\n",
    "            while c[x] > 1:\n",
    "                c[s[left]] -= 1\n",
    "                left += 1\n",
    "            ans = max(ans, right-left+1)\n",
    "        return ans"
   ]
  },
  {
   "cell_type": "markdown",
   "metadata": {},
   "source": [
    "## 课后作业"
   ]
  },
  {
   "cell_type": "markdown",
   "metadata": {},
   "source": [
    "### 2958. 最多 K 个重复元素的最长子数组\n",
    "\n",
    "https://leetcode.cn/problems/length-of-longest-subarray-with-at-most-k-frequency/"
   ]
  },
  {
   "cell_type": "code",
   "execution_count": null,
   "metadata": {},
   "outputs": [],
   "source": [
    "class Solution:\n",
    "    def maxSubarrayLength(self, nums: List[int], k: int) -> int:\n",
    "        c = Counter()\n",
    "        ans = 0\n",
    "        left = 0\n",
    "        for right, x in enumerate(nums):\n",
    "            c[x] += 1\n",
    "            while c[x] > k:\n",
    "                c[nums[left]] -= 1\n",
    "                left += 1\n",
    "            ans = max(ans, right-left+1)\n",
    "        return ans"
   ]
  },
  {
   "cell_type": "markdown",
   "metadata": {},
   "source": [
    "### 2730. 找到最长的半重复子字符串\n",
    "\n",
    "https://leetcode.cn/problems/find-the-longest-semi-repetitive-substring/"
   ]
  },
  {
   "cell_type": "code",
   "execution_count": null,
   "metadata": {},
   "outputs": [],
   "source": [
    "class Solution:\n",
    "    def longestSemiRepetitiveSubstring(self, s: str) -> int:\n",
    "        ans = 0\n",
    "        semi = 0\n",
    "        left = 0\n",
    "        for right, x in enumerate(s):\n",
    "            if right > left and s[right] == s[right-1]:\n",
    "                semi += 1\n",
    "            while semi > 1:\n",
    "                if s[left] == s[left+1]:\n",
    "                    semi -= 1\n",
    "                left += 1\n",
    "            ans = max(ans, right-left+1)\n",
    "        return ans"
   ]
  },
  {
   "cell_type": "markdown",
   "metadata": {},
   "source": [
    "### 2779. 数组的最大美丽值\n",
    "\n",
    "https://leetcode.cn/problems/maximum-beauty-of-an-array-after-applying-operation/"
   ]
  },
  {
   "cell_type": "code",
   "execution_count": null,
   "metadata": {},
   "outputs": [],
   "source": [
    "class Solution:\n",
    "    def maximumBeauty(self, nums: List[int], k: int) -> int:\n",
    "        # 由于选的是子序列，且操作后子序列的元素都相等，所以元素顺序对答案没有影响，可以先对数组排序\n",
    "        nums.sort()\n",
    "        ans = 0\n",
    "        left = 0\n",
    "        for right in range(len(nums)):\n",
    "            while nums[left] + k < nums[right] - k:\n",
    "                left += 1\n",
    "            ans = max(ans, right-left+1)\n",
    "        return ans"
   ]
  },
  {
   "cell_type": "markdown",
   "metadata": {},
   "source": [
    "### 1004. 最大连续 1 的个数 III\n",
    "\n",
    "https://leetcode.cn/problems/max-consecutive-ones-iii/"
   ]
  },
  {
   "cell_type": "code",
   "execution_count": null,
   "metadata": {},
   "outputs": [],
   "source": [
    "class Solution:\n",
    "    def longestOnes(self, nums: List[int], k: int) -> int:\n",
    "        ans = 0\n",
    "        zero = 0\n",
    "        left = 0\n",
    "        for right in range(len(nums)):\n",
    "            if nums[right] == 0:\n",
    "                zero += 1\n",
    "            while zero > k:\n",
    "                if nums[left] == 0:\n",
    "                    zero -= 1\n",
    "                left += 1\n",
    "            ans = max(ans, right-left+1)\n",
    "        return ans"
   ]
  },
  {
   "cell_type": "markdown",
   "metadata": {},
   "source": [
    "### 2962. 统计最大元素出现至少 K 次的子数组\n",
    "\n",
    "https://leetcode.cn/problems/count-subarrays-where-max-element-appears-at-least-k-times/"
   ]
  },
  {
   "cell_type": "code",
   "execution_count": null,
   "metadata": {},
   "outputs": [],
   "source": [
    "class Solution:\n",
    "    def countSubarrays(self, nums: List[int], k: int) -> int:\n",
    "        ans = 0\n",
    "        x = max(nums)\n",
    "        c = 0\n",
    "        left = 0\n",
    "        for right in range(len(nums)):\n",
    "            if nums[right] == x:\n",
    "                c += 1\n",
    "            while c >= k:\n",
    "                if nums[left] == x:\n",
    "                    c -= 1\n",
    "                left += 1\n",
    "            # 对于右端点为 right 且左端点小于 left 的子数组\n",
    "            # x 的出现次数都至少为 k，把答案增加 left\n",
    "            ans += left\n",
    "        return ans"
   ]
  },
  {
   "cell_type": "markdown",
   "metadata": {},
   "source": [
    "### 2302. 统计得分小于 K 的子数组数目\n",
    "\n",
    "https://leetcode.cn/problems/count-subarrays-with-score-less-than-k/"
   ]
  },
  {
   "cell_type": "code",
   "execution_count": null,
   "metadata": {},
   "outputs": [],
   "source": [
    "class Solution:\n",
    "    def countSubarrays(self, nums: List[int], k: int) -> int:\n",
    "        ans = 0\n",
    "        # 这里只记录和，记录得分算起来麻烦\n",
    "        s = 0\n",
    "        left = 0\n",
    "        for right in range(len(nums)):\n",
    "            s += nums[right]\n",
    "            while s * (right - left + 1) >= k:\n",
    "                s -= nums[left]\n",
    "                left += 1\n",
    "            ans += right - left + 1\n",
    "        return ans"
   ]
  },
  {
   "cell_type": "markdown",
   "metadata": {},
   "source": [
    "### 1658. 将 x 减到 0 的最小操作数\n",
    "\n",
    "https://leetcode.cn/problems/minimum-operations-to-reduce-x-to-zero/"
   ]
  },
  {
   "cell_type": "code",
   "execution_count": null,
   "metadata": {},
   "outputs": [],
   "source": [
    "class Solution:\n",
    "    def minOperations(self, nums: List[int], x: int) -> int:\n",
    "        # 将题目转化为从 nums 中找最长的子数组，其元素和等于数组元素总和减 x\n",
    "        # 由于本题没有负数，我们可以用滑动窗口\n",
    "        target = sum(nums) - x\n",
    "        if target < 0:\n",
    "            return -1\n",
    "        if target == 0:\n",
    "            return len(nums)\n",
    "        ans = 0\n",
    "        left = 0\n",
    "        s = 0\n",
    "        for right in range(len(nums)):\n",
    "            s += nums[right]\n",
    "            while s > target:\n",
    "                s -= nums[left]\n",
    "                left += 1\n",
    "            if s == target:\n",
    "                ans = max(ans, right - left + 1)\n",
    "        return len(nums) - ans if ans != 0 else -1"
   ]
  },
  {
   "cell_type": "markdown",
   "metadata": {},
   "source": [
    "### 1234. 替换子串得到平衡字符串\n",
    "\n",
    "https://leetcode.cn/problems/replace-the-substring-for-balanced-string/"
   ]
  },
  {
   "cell_type": "code",
   "execution_count": null,
   "metadata": {},
   "outputs": [],
   "source": [
    "class Solution:\n",
    "    def balancedString(self, s: str) -> int:\n",
    "        # 如果在待替换子串外，各字符出现次数都不超过 n/4\n",
    "        # 那么可以通过替换使 s 为平衡字符串\n",
    "        n = len(s)\n",
    "        m = n // 4\n",
    "        cnt = Counter(s)\n",
    "        # 若已经是平衡字符串，则返回 0\n",
    "        if len(cnt) == 4 and max(cnt.values()) == m:\n",
    "            return 0\n",
    "        ans = inf\n",
    "        left = 0\n",
    "        for right in range(n):\n",
    "            cnt[s[right]] -= 1\n",
    "            while max(cnt.values()) == m:\n",
    "                ans = min(ans, right-left+1)\n",
    "                cnt[s[left]] += 1\n",
    "                left += 1\n",
    "        return ans"
   ]
  },
  {
   "cell_type": "markdown",
   "metadata": {},
   "source": [
    "### 76. 最小覆盖子串\n",
    "\n",
    "https://leetcode.cn/problems/minimum-window-substring/"
   ]
  },
  {
   "cell_type": "code",
   "execution_count": null,
   "metadata": {},
   "outputs": [],
   "source": [
    "class Solution:\n",
    "    def minWindow(self, s: str, t: str) -> str:\n",
    "        ans_left = -1\n",
    "        ans_right = len(s)\n",
    "        cnt_s = Counter()\n",
    "        cnt_t = Counter(t)\n",
    "        left = 0\n",
    "        for right, x in enumerate(s):\n",
    "            cnt_s[x] += 1\n",
    "            # 涵盖\n",
    "            while cnt_s >= cnt_t:\n",
    "                if right - left < ans_right - ans_left:\n",
    "                    ans_right = right\n",
    "                    ans_left = left\n",
    "                cnt_s[s[left]] -= 1\n",
    "                left += 1\n",
    "        return s[ans_left:ans_right+1] if ans_left != -1 else ''"
   ]
  }
 ],
 "metadata": {
  "kernelspec": {
   "display_name": "base",
   "language": "python",
   "name": "python3"
  },
  "language_info": {
   "name": "python",
   "version": "3.12.3"
  }
 },
 "nbformat": 4,
 "nbformat_minor": 2
}
