{
 "cells": [
  {
   "cell_type": "code",
   "execution_count": null,
   "metadata": {},
   "outputs": [],
   "source": [
    "from typing import *\n",
    "from math import inf"
   ]
  },
  {
   "cell_type": "markdown",
   "metadata": {},
   "source": [
    "## 例题（一）"
   ]
  },
  {
   "cell_type": "markdown",
   "metadata": {},
   "source": [
    "### 167. 两数之和 II - 输入有序数组\n",
    "\n",
    "https://leetcode.cn/problems/two-sum-ii-input-array-is-sorted/"
   ]
  },
  {
   "cell_type": "markdown",
   "metadata": {},
   "source": [
    "给定一个数组 numbers，需要从中找到两个数，他俩加起来等于 target\n",
    "\n",
    "首先尝试暴力做法，枚举第一个数，然后在后面找第二个数\n",
    "\n",
    "枚举第一个数，用了一个 for 循环，枚举第二个数，再嵌套了一个 for 循环，所以暴力做法的时间复杂度是 O(n^2) 的\n",
    "\n",
    "注意到这个数组是已经排好序的，暴力并没有利用到数组已经排好序这一性质\n",
    "\n",
    "---\n",
    "\n",
    "我们先随便选两个数，假设他俩加起来大于 target\n",
    "\n",
    "由于数组是有序的，那中间这些数是不可能比第一个要小的\n",
    "\n",
    "也就是说，中间这些数和第二个数加起来也是大于 target 的\n",
    "\n",
    "我们直接选最小的数和最大的数，如果他俩加起来大于 target\n",
    "\n",
    "那就说明中间这些数和第二个数加起来也是大于 target 的\n",
    "\n",
    "也就是说，最大的这个数和数组中任何一个数相加都大于 target\n",
    "\n",
    "那直接把最大的这个数去掉，在剩下的数字中寻找答案\n",
    "\n",
    "每次花费 O(1) 的时间比较大小，然后去掉一个数，直到找到答案，因此这种方法的时间复杂度是 O(n) 的\n",
    "\n",
    "---\n",
    "\n",
    "使用“获取了多少信息量”来衡量一个算法的效率\n",
    "\n",
    "暴力做法每次花费 O(1) 的时间，找两个数加起来和 target 比较大小，只知道了 O(1) 的信息\n",
    "\n",
    "优化后的做法，每次把当前最小的数和最大的数加起来和 target 比较大小\n",
    "\n",
    "比较之后，可以知道其中任意一个数和最大的数相加，都是大于或小于 target 的\n",
    "\n",
    "因此每次花费 O(1) 的时间，得到了 O(n) 的信息\n",
    "\n",
    "注意使用这个算法的前提条件是：**数组有序**"
   ]
  },
  {
   "cell_type": "code",
   "execution_count": null,
   "metadata": {},
   "outputs": [],
   "source": [
    "class Solution:\n",
    "    def twoSum(self, numbers: List[int], target: int) -> List[int]:\n",
    "        # 时间复杂度 O(n)\n",
    "        # 空间复杂度 O(1)\n",
    "        left = 0\n",
    "        right = len(numbers) - 1\n",
    "        while left < right:\n",
    "            s = numbers[left] + numbers[right]\n",
    "            if s == target:\n",
    "                break\n",
    "            if s > target:\n",
    "                right -= 1\n",
    "            else:\n",
    "                left += 1\n",
    "\n",
    "        return [left+1, right+1]"
   ]
  },
  {
   "cell_type": "markdown",
   "metadata": {},
   "source": [
    "### 15. 三数之和\n",
    "\n",
    "https://leetcode.cn/problems/3sum/"
   ]
  },
  {
   "cell_type": "markdown",
   "metadata": {},
   "source": [
    "从上一题可知，如果数组有序，就可以使用双向双指针，所以这里一上来可以直接排个序\n",
    "\n",
    "由于题目说三元组的顺序并不重要，题目的要求可以改写成 i < j < k\n",
    "\n",
    "然后我们可以枚举 nums[i]，这样可以把问题转化为剩下的两个数相加等于 -nums[i]\n",
    "\n",
    "枚举的范围应是从零到数组长度减三，因为要给后两个元素留位置\n",
    "\n",
    "题目中还要求，答案中不能包括重复的三元组，什么时候会出现重复的三元组？\n",
    "\n",
    "只要当前枚举的这个数和上一个数是相同的，那么跳过就好\n",
    "\n",
    "注意 i, j, k 都要做去重处理\n",
    "\n",
    "---\n",
    "\n",
    "排序部分的时间复杂度是 O(nlogn)\n",
    "\n",
    "遍历第一个数是 O(n)，双指针部分是 O(n)，整体是 O(n^2)\n",
    "\n",
    "所以总的时间复杂度是 O(n^2)\n",
    "\n",
    "没有用到额外变量，空间复杂度是 O(1)"
   ]
  },
  {
   "cell_type": "code",
   "execution_count": null,
   "metadata": {},
   "outputs": [],
   "source": [
    "class Solution:\n",
    "    def threeSum(self, nums: List[int]) -> List[List[int]]:\n",
    "        nums.sort()\n",
    "        ans = []\n",
    "        n = len(nums)\n",
    "        for i in range(n-2):\n",
    "            x = nums[i]\n",
    "            if i > 0 and x == nums[i-1]:\n",
    "                continue\n",
    "            j = i + 1\n",
    "            k = n - 1\n",
    "            while j < k:\n",
    "                y = nums[j]\n",
    "                z = nums[k]\n",
    "                s = x + y + z\n",
    "                if s < 0:\n",
    "                    j += 1\n",
    "                elif s > 0:\n",
    "                    k -= 1\n",
    "                else:\n",
    "                    ans.append([x, y, z])\n",
    "                    j += 1\n",
    "                    k -= 1\n",
    "                    while j < k and nums[j] == nums[j-1]:\n",
    "                        j += 1\n",
    "                    while k > j and nums[k] == nums[k+1]:\n",
    "                        k -= 1\n",
    "        return ans"
   ]
  },
  {
   "cell_type": "markdown",
   "metadata": {},
   "source": [
    "## 课后作业"
   ]
  },
  {
   "cell_type": "markdown",
   "metadata": {},
   "source": [
    "### 2824. 统计和小于目标的下标对数目\n",
    "\n",
    "https://leetcode.cn/problems/count-pairs-whose-sum-is-less-than-target/"
   ]
  },
  {
   "cell_type": "code",
   "execution_count": null,
   "metadata": {},
   "outputs": [],
   "source": [
    "class Solution:\n",
    "    def countPairs(self, nums: List[int], target: int) -> int:\n",
    "        nums.sort()\n",
    "        ans = 0\n",
    "        left = 0\n",
    "        right = len(nums) - 1\n",
    "        while left < right:\n",
    "            s = nums[left] + nums[right]\n",
    "            # 要找和小于目标的两个数\n",
    "            # 如果大于等于，说明数组中任何数与第二个数相加都大于等于\n",
    "            # 去掉第二个数\n",
    "            if s >= target:\n",
    "                right -= 1\n",
    "            # 如果小于，说明数组中任何数与第一个数相加都小于\n",
    "            # 统计完成后，去掉第一个数\n",
    "            else:\n",
    "                ans += right - left\n",
    "                left += 1\n",
    "        return ans"
   ]
  },
  {
   "cell_type": "markdown",
   "metadata": {},
   "source": [
    "### 16. 最接近的三数之和\n",
    "\n",
    "https://leetcode.cn/problems/3sum-closest/"
   ]
  },
  {
   "cell_type": "code",
   "execution_count": null,
   "metadata": {},
   "outputs": [],
   "source": [
    "class Solution:\n",
    "    def threeSumClosest(self, nums: List[int], target: int) -> int:\n",
    "        dist = inf\n",
    "        ans = None\n",
    "        nums.sort()\n",
    "        n = len(nums)\n",
    "        for i in range(n-2):\n",
    "            left = i + 1\n",
    "            right = n - 1\n",
    "            while left < right:\n",
    "                s = nums[i] + nums[left] + nums[right]\n",
    "                if s == target:\n",
    "                    return s\n",
    "                if s > target:\n",
    "                    d = s - target\n",
    "                    if d < dist:\n",
    "                        dist = d\n",
    "                        ans = s\n",
    "                    right -= 1\n",
    "                else:\n",
    "                    d = target - s\n",
    "                    if d < dist:\n",
    "                        dist = d \n",
    "                        ans = s \n",
    "                    left += 1\n",
    "        return ans"
   ]
  },
  {
   "cell_type": "markdown",
   "metadata": {},
   "source": [
    "### 18. 四数之和\n",
    "\n",
    "https://leetcode.cn/problems/4sum/"
   ]
  },
  {
   "cell_type": "code",
   "execution_count": null,
   "metadata": {},
   "outputs": [],
   "source": [
    "class Solution:\n",
    "    def fourSum(self, nums: List[int], target: int) -> List[List[int]]:\n",
    "        nums.sort()\n",
    "        ans = []\n",
    "        n = len(nums)\n",
    "        for a in range(n):\n",
    "            if a > 0 and nums[a] == nums[a-1]:\n",
    "                continue\n",
    "            for b in range(a+1, n):\n",
    "                if b > a+1 and nums[b] == nums[b-1]:\n",
    "                    continue\n",
    "                c = b + 1\n",
    "                d = n - 1\n",
    "                while c < d:\n",
    "                    s = nums[a] + nums[b] + nums[c] + nums[d]\n",
    "                    if s == target:\n",
    "                        ans.append([nums[a], nums[b], nums[c], nums[d]])\n",
    "                        c += 1\n",
    "                        while c < d and nums[c] == nums[c-1]:\n",
    "                            c += 1\n",
    "                        d -= 1\n",
    "                        while d > c and nums[d] == nums[d+1]:\n",
    "                            d -= 1\n",
    "                    elif s < target:\n",
    "                        c += 1\n",
    "                    else:\n",
    "                        d -= 1\n",
    "        return ans"
   ]
  },
  {
   "cell_type": "markdown",
   "metadata": {},
   "source": [
    "### 611. 有效三角形的个数\n",
    "\n",
    "https://leetcode.cn/problems/valid-triangle-number/"
   ]
  },
  {
   "cell_type": "code",
   "execution_count": null,
   "metadata": {},
   "outputs": [],
   "source": [
    "class Solution:\n",
    "    def triangleNumber(self, nums: List[int]) -> int:\n",
    "        nums.sort()\n",
    "        ans = 0\n",
    "        n = len(nums)\n",
    "        # 对最长边遍历，从而将问题转化为另外两条边之和\n",
    "        for k in range(n-1, 1, -1):\n",
    "            i = 0\n",
    "            j = k - 1\n",
    "            while i < j:\n",
    "                s = nums[i] + nums[j]\n",
    "                if s <= nums[k]:\n",
    "                    i += 1\n",
    "                else:\n",
    "                    # 由于数组有序，数组中任意一个数与第二个数相加都大于 target\n",
    "                    ans += j - i\n",
    "                    j -= 1\n",
    "        return ans"
   ]
  },
  {
   "cell_type": "markdown",
   "metadata": {},
   "source": [
    "## 例题（二）"
   ]
  },
  {
   "cell_type": "markdown",
   "metadata": {},
   "source": [
    "### 11. 盛最多水的容器\n",
    "\n",
    "https://leetcode.cn/problems/container-with-most-water/"
   ]
  },
  {
   "cell_type": "markdown",
   "metadata": {},
   "source": [
    "给定 n 条线，需要从中选择两条构成容器，容器的高度取决于短的那条线，容器的宽度取决于两条线的距离\n",
    "\n",
    "选择哪两条线可以容纳最多的水？\n",
    "\n",
    "先随便选择两条线，可以得到一个容器，看短的这条线，讨论中间的线和它构成容器的情况\n",
    "\n",
    "如果中间的线比它短，那么容器宽度变小，高度也变小，肯定不会比原来的容器大\n",
    "\n",
    "如果中间的线比它长或者一样长，那么容器宽度变小，高度不变，也不会比原来的容器大\n",
    "\n",
    "因此，中间的任何线都无法和短边构成容量更大的容器\n",
    "\n",
    "为了找到更大的容器，就得去掉短边，在剩下的线中继续找\n",
    "\n",
    "---\n",
    "\n",
    "初始化两个指针，分别指向最左和最右边的两条线，哪条线短，就移动哪边的指针\n",
    "\n",
    "每次计算当前面积，如果比记录的最大面积更大，就更新答案\n",
    "\n",
    "每次 O(1) 的时间去掉了一条线，因此这个方法的时间复杂度是 O(n) 的"
   ]
  },
  {
   "cell_type": "code",
   "execution_count": null,
   "metadata": {},
   "outputs": [],
   "source": [
    "class Solution:\n",
    "    def maxArea(self, height: List[int]) -> int:\n",
    "        # 时间复杂度 O(n)\n",
    "        # 空间复杂度 O(1)\n",
    "        ans = 0\n",
    "        left, right = 0, len(height) - 1\n",
    "        while left < right:\n",
    "            area = (right - left) * min(height[left], height[right])\n",
    "            ans = max(ans, area)\n",
    "            if height[left] < height[right]:\n",
    "                left += 1\n",
    "            else:\n",
    "                right -= 1\n",
    "        return ans"
   ]
  },
  {
   "cell_type": "markdown",
   "metadata": {},
   "source": [
    "### 42. 接雨水\n",
    "\n",
    "https://leetcode.cn/problems/trapping-rain-water/"
   ]
  },
  {
   "cell_type": "markdown",
   "metadata": {},
   "source": [
    "给定一个数组，表示每个位置的高度，也就是图中的黑色区域，其中形成的洼地可以接水，问能接多少单位的水\n",
    "\n",
    "可以假设每个位置都是宽度为 1 的桶，需要计算左边木板的高度和右边木板的高度，二者取最小值\n",
    "\n",
    "左边木板的高度，取决于左边的最大高度，因为高于这个高度的水会从左边流出去\n",
    "\n",
    "右边木板的高度也同理，取决于右边的最大高度\n",
    "\n",
    "---\n",
    "\n",
    "使用两个额外的数组\n",
    "\n",
    "第一个数组存储从最左边到当前位置的最大高度，也就是前缀的最大值\n",
    "\n",
    "第二个数组存储从最右边，也就是后缀的最大值\n",
    "\n",
    "对于每个前缀最大值，可以取上一个前缀最大值和当前高度进行比较，取最大值\n",
    "\n",
    "之后在每个位置上，取两个数组对应位置的最小值，减去当前位置的高度，就是当前位置的接水量\n",
    "\n",
    "整个过程一共是三次遍历，因此时间复杂度是 O(n)"
   ]
  },
  {
   "cell_type": "code",
   "execution_count": null,
   "metadata": {},
   "outputs": [],
   "source": [
    "class Solution:\n",
    "    def trap(self, height: List[int]) -> int:\n",
    "        # 时间复杂度 O(n)\n",
    "        # 空间复杂度 O(n)\n",
    "        n = len(height)\n",
    "\n",
    "        left = [0] * n\n",
    "        left[0] = height[0]\n",
    "        for i in range(1, n):\n",
    "            left[i] = max(left[i-1], height[i])\n",
    "        \n",
    "        right = [0] * n\n",
    "        right[n-1] = height[n-1]\n",
    "        for i in range(n-2, -1, -1):\n",
    "            right[i] = max(right[i+1], height[i])\n",
    "\n",
    "        ans = 0\n",
    "        for l, r, h in zip(left, right, height):\n",
    "            ans += min(l, r) - h \n",
    "        return ans"
   ]
  }
 ],
 "metadata": {
  "kernelspec": {
   "display_name": "base",
   "language": "python",
   "name": "python3"
  },
  "language_info": {
   "codemirror_mode": {
    "name": "ipython",
    "version": 3
   },
   "file_extension": ".py",
   "mimetype": "text/x-python",
   "name": "python",
   "nbconvert_exporter": "python",
   "pygments_lexer": "ipython3",
   "version": "3.12.3"
  }
 },
 "nbformat": 4,
 "nbformat_minor": 2
}
