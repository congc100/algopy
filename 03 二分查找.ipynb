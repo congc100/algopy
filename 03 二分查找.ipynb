{
 "cells": [
  {
   "cell_type": "code",
   "execution_count": null,
   "metadata": {},
   "outputs": [],
   "source": [
    "from typing import *\n",
    "from math import inf\n",
    "from collections import defaultdict"
   ]
  },
  {
   "cell_type": "markdown",
   "metadata": {},
   "source": [
    "## 例题（一）"
   ]
  },
  {
   "cell_type": "markdown",
   "metadata": {},
   "source": [
    "### 34. 在排序数组中查找元素的第一个和最后一个位置\n",
    "\n",
    "https://leetcode.cn/problems/find-first-and-last-position-of-element-in-sorted-array/"
   ]
  },
  {
   "cell_type": "markdown",
   "metadata": {},
   "source": [
    "给你一个从小到大排好序的数组，你需要找到**第一个**大于等于 target 的数的下标\n",
    "\n",
    "暴力的做法是从左到右遍历，如果 target 在最右边，那我们需要 O(n) 的时间\n",
    "\n",
    "暴力做法没有用到数组是有序的这一性质\n",
    "\n",
    "---\n",
    "\n",
    "使用两个指针，L 初始化为 0，R 初始化为 n-1，分别指向数组中最左边的元素和最右边的元素\n",
    "\n",
    "表示我们现在需要知道这个闭区间内每个数和 target 之间的大小关系\n",
    "\n",
    "我们随便取一个数，如果它比 target 小，由于数组是有序的，那么它左边的这些数也是比 target 小的\n",
    "\n",
    "如果它大于等于 target，那么它右边的数也都是大于等于 target 的\n",
    "\n",
    "这个数取在哪里比较合适？\n",
    "\n",
    "如果取中间的话，那么无论是小于 target 还是大于等于 target，我都能立刻知道数组中一半的元素和 target 的大小关系\n",
    "\n",
    "所以取中间是最合适的\n",
    "\n",
    "如果区间里面有偶数个元素，你可以取左边的这个元素，它的下标是 M = (L+R) / 2 向下取整\n",
    "\n",
    "---\n",
    "\n",
    "我们可以用红色来表示小于 target 的数，用蓝色表示大于等于 target 的数\n",
    "\n",
    "如果 M 位置及其左边都已确定小于 target，那么使用红色标记，然后把 L 更新为 M+1，注意此时 L-1 指向的一定是红色\n",
    "\n",
    "注意每时每刻都是在一个闭区间上处理的，闭区间内部应是待确定大小关系的元素，所以 L 不能更新成 M，因为 M 已经处理过了\n",
    "\n",
    "另一种情况也类似，如果 M 位置及其右边都已确定大于 target，那么使用蓝色标记，然后把 R 更新为 M-1，注意此时 R+1 指向的一定是蓝色\n",
    "\n",
    "当 R 跑到 L 左边时，说明所有元素都已经确定与 target 之间的大小关系了\n",
    "\n",
    "由于 R+1 指向的一定是蓝色，也就是第一个大于等于 target 的元素，所以 R+1 就是所求的答案\n",
    "\n",
    "由于循环结束后还有 R+1 等于 L，所以答案也可以用 L 表示\n",
    "\n",
    "如果是所有元素都比 target 小的情况，那么 L 会一直向右移动，直到 R 的右边，也就是 L 最后会等于数组长度\n",
    "\n",
    "---\n",
    "\n",
    "以上是在寻找**第一个**大于等于 target 的位置，如何转化为其他情况呢？\n",
    "\n",
    "如果寻找**第一个**大于 target 的位置，可以转化为寻找第一个大于等于 target+1 的位置\n",
    "\n",
    "如果寻找**最后一个**小于 target 的位置，可以先找到第一个大于等于 target 的位置，然后它的左边一位就是答案\n",
    "\n",
    "如果寻找**最后一个**小于等于 target 的要求，可以先找到第一个大于 target 的位置（第一个大于等于 target+1 的位置），然后它的左边一位就是答案\n",
    "\n",
    "---\n",
    "\n",
    "对于这道题目，要求找到等于 target 的开始位置和结束位置\n",
    "\n",
    "等于 target 的开始位置，也就是第一个大于等于 target 的结果\n",
    "\n",
    "等于 target 的结束位置，也就是最后一个小于等于 target 位置的结果"
   ]
  },
  {
   "cell_type": "code",
   "execution_count": null,
   "metadata": {},
   "outputs": [],
   "source": [
    "def lower_bound(nums, target):\n",
    "    # 时间复杂度 O(log n)\n",
    "    # 空间复杂度 O(1)\n",
    "    left = 0\n",
    "    right = len(nums) - 1\n",
    "    while left <= right:\n",
    "        mid = (left + right) // 2\n",
    "        if nums[mid] >= target:\n",
    "            right = mid - 1\n",
    "        else:\n",
    "            left = mid + 1\n",
    "    return right + 1\n",
    "\n",
    "class Solution:\n",
    "    def searchRange(self, nums: List[int], target: int) -> List[int]:\n",
    "        start = lower_bound(nums, target)\n",
    "        # 数组元素都小于 target，或者第一个大于等于 target 的元素并非 target\n",
    "        if start == len(nums) or nums[start] != target:\n",
    "            return [-1, -1]\n",
    "        end = lower_bound(nums, target+1) - 1\n",
    "        return [start, end]"
   ]
  },
  {
   "cell_type": "markdown",
   "metadata": {},
   "source": [
    "## 课后作业"
   ]
  },
  {
   "cell_type": "markdown",
   "metadata": {},
   "source": [
    "### 2529. 正整数和负整数的最大计数\n",
    "\n",
    "https://leetcode.cn/problems/maximum-count-of-positive-integer-and-negative-integer/"
   ]
  },
  {
   "cell_type": "code",
   "execution_count": null,
   "metadata": {},
   "outputs": [],
   "source": [
    "def lower_bound(nums, target):\n",
    "    left = 0\n",
    "    right = len(nums) - 1\n",
    "    while left <= right:\n",
    "        mid = (left + right) // 2\n",
    "        if nums[mid] >= target:\n",
    "            right = mid - 1\n",
    "        else:\n",
    "            left = mid + 1\n",
    "    return left\n",
    "\n",
    "class Solution:\n",
    "    def maximumCount(self, nums: List[int]) -> int:\n",
    "        pos = (len(nums) - 1) - (lower_bound(nums, 1)) + 1\n",
    "        # 寻找最后一个小于 0 的下标，等价于寻找第一个大于等于 0 的坐标减一\n",
    "        neg = (lower_bound(nums, 0) - 1) - 0 + 1\n",
    "        return max(pos, neg)"
   ]
  },
  {
   "cell_type": "markdown",
   "metadata": {},
   "source": [
    "### 2300. 咒语和药水的成功对数\n",
    "\n",
    "https://leetcode.cn/problems/successful-pairs-of-spells-and-potions/"
   ]
  },
  {
   "cell_type": "code",
   "execution_count": null,
   "metadata": {},
   "outputs": [],
   "source": [
    "def lower_bound(nums, target):\n",
    "    left = 0\n",
    "    right = len(nums) - 1\n",
    "    while left <= right:\n",
    "        mid = (left + right) // 2\n",
    "        if nums[mid] >= target:\n",
    "            right = mid - 1\n",
    "        else:\n",
    "            left = mid + 1\n",
    "    return right + 1\n",
    "\n",
    "class Solution:\n",
    "    def successfulPairs(self, spells: List[int], potions: List[int], success: int) -> List[int]:\n",
    "        n = len(spells)\n",
    "        m = len(potions)\n",
    "        potions.sort()\n",
    "        ans = []\n",
    "        for spell in spells:\n",
    "            target = success / spell\n",
    "            first_p = lower_bound(potions, target)\n",
    "            # 找没找到的情况都考虑到了\n",
    "            ans.append(m - first_p)\n",
    "        return ans"
   ]
  },
  {
   "cell_type": "markdown",
   "metadata": {},
   "source": [
    "### 2563. 统计公平数对的数目\n",
    "\n",
    "https://leetcode.cn/problems/count-the-number-of-fair-pairs/"
   ]
  },
  {
   "cell_type": "code",
   "execution_count": null,
   "metadata": {},
   "outputs": [],
   "source": [
    "def lower_bound(nums, right, target):\n",
    "    left = 0\n",
    "    # right = len(nums) - 1\n",
    "    while left <= right:\n",
    "        mid = (left + right) // 2\n",
    "        if nums[mid] >= target:\n",
    "            right = mid - 1\n",
    "        else:\n",
    "            left = mid + 1\n",
    "    return right + 1\n",
    "\n",
    "class Solution:\n",
    "    def countFairPairs(self, nums: List[int], lower: int, upper: int) -> int:\n",
    "        ans = 0\n",
    "        nums.sort()\n",
    "        # 在 nj 左侧寻找 ni\n",
    "        for j in range(1, len(nums)):\n",
    "            nj = nums[j]\n",
    "            # 第一个大于等于 lower-n 的元素下标\n",
    "            l = lower_bound(nums, j, lower - nj)\n",
    "            # 最后一个小于等于 upper-n 的元素下标\n",
    "            r = lower_bound(nums, j, upper - nj + 1) - 1\n",
    "            # 如果整个查找区域都小于等于 upper-n\n",
    "            # 右指针会等于查找区域长度\n",
    "            if r == j:\n",
    "                r = j - 1\n",
    "            if r >= l:\n",
    "                ans += r - l + 1\n",
    "        return ans"
   ]
  },
  {
   "cell_type": "markdown",
   "metadata": {},
   "source": [
    "### 2080. 区间内查询数字的频率\n",
    "\n",
    "https://leetcode.cn/problems/range-frequency-queries/"
   ]
  },
  {
   "cell_type": "code",
   "execution_count": null,
   "metadata": {},
   "outputs": [],
   "source": [
    "def lower_bound(nums, target):\n",
    "    left = 0\n",
    "    right = len(nums) - 1\n",
    "    while left <= right:\n",
    "        mid = (left + right) // 2\n",
    "        if nums[mid] >= target:\n",
    "            right = mid - 1\n",
    "        else:\n",
    "            left = mid + 1\n",
    "    return left\n",
    "\n",
    "class RangeFreqQuery:\n",
    "    def __init__(self, arr: List[int]):\n",
    "        # 记录各元素的出现位置\n",
    "        d = defaultdict(list)\n",
    "        for i, n in enumerate(arr):\n",
    "            d[n].append(i)\n",
    "        self.d = d\n",
    "    \n",
    "    def query(self, left: int, right: int, value: int) -> int:\n",
    "        pos = self.d[value]\n",
    "        # 查找范围内出现次数\n",
    "        start = lower_bound(pos, left)\n",
    "        end = lower_bound(pos, right+1) - 1\n",
    "        return end - start + 1\n",
    "\n",
    "# Your RangeFreqQuery object will be instantiated and called as such:\n",
    "# obj = RangeFreqQuery(arr)\n",
    "# param_1 = obj.query(left,right,value)"
   ]
  },
  {
   "cell_type": "markdown",
   "metadata": {},
   "source": [
    "### 275. H 指数 II\n",
    "\n",
    "https://leetcode.cn/problems/h-index-ii/"
   ]
  },
  {
   "cell_type": "code",
   "execution_count": null,
   "metadata": {},
   "outputs": [],
   "source": [
    "# 单调性\n",
    "# 如果至少有 2 篇论文的引用次数 >= 2，那么也必然有至少 1 篇论文的引用次数 >= 1\n",
    "# 如果没有 4 篇论文的引用次数 >= 4，那么也必然没有 5 篇论文的引用次数 >= 5\n",
    "\n",
    "class Solution:\n",
    "    def hIndex(self, citations: List[int]) -> int:\n",
    "        n = len(citations)\n",
    "        left = 0\n",
    "        right = n - 1\n",
    "        while left <= right:\n",
    "            # 如果中位论文满足“引用数 >= 当前及右侧论文数”\n",
    "            # 说明中位论文及其右侧论文都满足此条件\n",
    "            mid = (left + right) // 2\n",
    "            cite = citations[mid]\n",
    "            num = n - mid\n",
    "            if cite >= num:\n",
    "                right = mid - 1\n",
    "            else:\n",
    "                left = mid + 1\n",
    "        # 此时 left 为第一个“引用数 >= 当前及右侧论文数”的论文\n",
    "        return n - left"
   ]
  },
  {
   "cell_type": "markdown",
   "metadata": {},
   "source": [
    "### 875. 爱吃香蕉的珂珂\n",
    "\n",
    "https://leetcode.cn/problems/koko-eating-bananas/"
   ]
  },
  {
   "cell_type": "code",
   "execution_count": null,
   "metadata": {},
   "outputs": [],
   "source": [
    "# 单调性\n",
    "# 如果能用某个速度吃完所有香蕉，那么也能用更快的速度吃完所有香蕉\n",
    "# 如果无法用某个速度吃完所有香蕉，那么也无法用更慢的速度吃完所有香蕉\n",
    "\n",
    "def eat_all(piles, speed, limit):\n",
    "    hour = 0\n",
    "    for p in piles:\n",
    "        if p % speed == 0:\n",
    "            hour += p // speed\n",
    "        else:\n",
    "            hour += p // speed + 1\n",
    "        if hour > limit:\n",
    "            return False\n",
    "    return True\n",
    "\n",
    "class Solution:\n",
    "    def minEatingSpeed(self, piles: List[int], h: int) -> int:\n",
    "        # 设置二分查找速度的范围\n",
    "        left = 1\n",
    "        right = max(piles)\n",
    "        while left <= right:\n",
    "            mid = (left + right) // 2\n",
    "            if eat_all(piles, mid, h):\n",
    "                right = mid - 1\n",
    "            else:\n",
    "                left = mid + 1\n",
    "        return left"
   ]
  },
  {
   "cell_type": "markdown",
   "metadata": {},
   "source": [
    "### 2187. 完成旅途的最少时间\n",
    "\n",
    "https://leetcode.cn/problems/minimum-time-to-complete-trips/"
   ]
  },
  {
   "cell_type": "code",
   "execution_count": null,
   "metadata": {},
   "outputs": [],
   "source": [
    "# 单调性：时间越多，可以完成的旅途次数也就越多\n",
    "# 问题变成：每辆车都用时 x，总共能完成多少趟旅途？能否达到 totalTrips？\n",
    "\n",
    "def travels(time, given):\n",
    "    ans = 0\n",
    "    for t in time:\n",
    "        ans += given // t\n",
    "    return ans\n",
    "\n",
    "class Solution:\n",
    "    def minimumTime(self, time: List[int], totalTrips: int) -> int:\n",
    "        # 设置二分查找时间的范围\n",
    "        left = min(time)\n",
    "        right = min(time) * totalTrips\n",
    "        while left <= right:\n",
    "            mid = (left + right) // 2\n",
    "            if travels(time, mid) >= totalTrips:\n",
    "                right = mid - 1\n",
    "            else:\n",
    "                left = mid + 1\n",
    "        return left"
   ]
  },
  {
   "cell_type": "markdown",
   "metadata": {},
   "source": [
    "### 2861. 最大合金数\n",
    "\n",
    "https://leetcode.cn/problems/maximum-number-of-alloys/"
   ]
  },
  {
   "cell_type": "code",
   "execution_count": null,
   "metadata": {},
   "outputs": [],
   "source": [
    "class Solution:\n",
    "    def maxNumberOfAlloys(self, n: int, k: int, budget: int, composition: List[List[int]], stock: List[int], cost: List[int]) -> int:\n",
    "        # 检查能否造出 amount 个合金\n",
    "        def can_make(amount):\n",
    "            for machine in composition:\n",
    "                spent = 0\n",
    "                for i in range(n):\n",
    "                    spent += max(amount * machine[i] - stock[i], 0) * cost[i]\n",
    "                if spent <= budget:\n",
    "                    return True\n",
    "            return False\n",
    "        # 二分查找结果\n",
    "        left = 1\n",
    "        right = budget + sum(stock)\n",
    "        while left <= right:\n",
    "            print(left, right)\n",
    "            mid = left + (right - left) // 2\n",
    "            if not can_make(mid):\n",
    "                right = mid - 1\n",
    "            else:\n",
    "                left = mid + 1\n",
    "        return right"
   ]
  },
  {
   "cell_type": "markdown",
   "metadata": {},
   "source": [
    "### 2439. 最小化数组中的最大值\n",
    "\n",
    "https://leetcode.cn/problems/minimize-maximum-of-array/"
   ]
  },
  {
   "cell_type": "code",
   "execution_count": null,
   "metadata": {},
   "outputs": [],
   "source": [
    "class Solution:\n",
    "    def minimizeArrayValue(self, nums: List[int]) -> int:\n",
    "        # 从后往前模拟\n",
    "        # 如果 nums[i]>limit，那么应当去掉多余的加到 nums[i−1] 上\n",
    "        # 最后如果 nums[0]≤limit，则二分判定成功\n",
    "        def test(limit):\n",
    "            extra = 0\n",
    "            for i in range(len(nums)-1, -1, -1):\n",
    "                if nums[i] + extra > limit:\n",
    "                    extra = nums[i] + extra - limit\n",
    "                else:\n",
    "                    extra = 0\n",
    "            return extra == 0\n",
    "        # 二分查找结果\n",
    "        left = 0\n",
    "        right = max(nums)\n",
    "        while left <= right:\n",
    "            mid = (left + right) // 2\n",
    "            if test(mid):\n",
    "                right = mid - 1\n",
    "            else:\n",
    "                left = mid + 1\n",
    "        return left"
   ]
  },
  {
   "cell_type": "markdown",
   "metadata": {},
   "source": [
    "### 2517. 礼盒的最大甜蜜度\n",
    "\n",
    "https://leetcode.cn/problems/maximum-tastiness-of-candy-basket/"
   ]
  },
  {
   "cell_type": "code",
   "execution_count": null,
   "metadata": {},
   "outputs": [],
   "source": [
    "class Solution:\n",
    "    def maximumTastiness(self, price: List[int], k: int) -> int:\n",
    "        price.sort()\n",
    "        # 模拟找糖果的过程\n",
    "        def test(value):\n",
    "            count = 1\n",
    "            base = price[0] + value\n",
    "            for i in range(1, len(price)):\n",
    "                if price[i] >= base:\n",
    "                    base = price[i] + value\n",
    "                    count += 1\n",
    "            return count >= k\n",
    "        # 二分查找结果\n",
    "        left = 0\n",
    "        right = price[-1] - price[0]\n",
    "        while left <= right:\n",
    "            mid = (left + right) // 2\n",
    "            if test(mid):\n",
    "                left = mid + 1\n",
    "            else:\n",
    "                right = mid - 1\n",
    "        return right"
   ]
  },
  {
   "cell_type": "markdown",
   "metadata": {},
   "source": [
    "## 例题（二）"
   ]
  },
  {
   "cell_type": "markdown",
   "metadata": {},
   "source": [
    "### 162. 寻找峰值\n",
    "\n",
    "https://leetcode.cn/problems/find-peak-element/"
   ]
  },
  {
   "cell_type": "markdown",
   "metadata": {},
   "source": [
    "这道题给了你一个数组，你需要找到任意一个峰顶，它大于左右两侧相邻的元素\n",
    "\n",
    "虽然可能有多个峰顶，但是我们可以假设要找的就是其中一个\n",
    "\n",
    "定义红色为峰顶左侧元素，蓝色为峰顶或其右侧元素\n",
    "\n",
    "由于峰顶一定在数组中，所以数组最右侧的元素一定是蓝色的\n",
    "\n",
    "那么我们在二分的时候，可以初始化左指针 L 为 0，右指针 R 为 n-2\n",
    "\n",
    "我们可以通过比较 M 和 M+1 指向的数字进行染色\n",
    "\n",
    "由于题目中保证数组中相邻元素不同，所以结果要么是小于要么是大于\n",
    "\n",
    "如果是小于，那么说明 M 在峰顶左侧，M 及其左侧都染成红色\n",
    "\n",
    "如果是大于，那么说明 M 要么是峰顶，要么在峰顶右侧，M 及其右侧都染成蓝色\n",
    "\n",
    "二分结束后，L 即是答案"
   ]
  },
  {
   "cell_type": "code",
   "execution_count": null,
   "metadata": {},
   "outputs": [],
   "source": [
    "class Solution:\n",
    "    def findPeakElement(self, nums: List[int]) -> int:\n",
    "        left = 0\n",
    "        right = len(nums) - 2\n",
    "        while left <= right:\n",
    "            mid = (left + right) // 2\n",
    "            if nums[mid] < nums[mid+1]:\n",
    "                left = mid + 1\n",
    "            else:\n",
    "                right = mid - 1\n",
    "        return left"
   ]
  },
  {
   "cell_type": "markdown",
   "metadata": {},
   "source": [
    "### 153. 寻找旋转排序数组中的最小值\n",
    "\n",
    "https://leetcode.cn/problems/find-minimum-in-rotated-sorted-array/"
   ]
  },
  {
   "cell_type": "markdown",
   "metadata": {},
   "source": [
    "给你一个数组，它可能是一个递增数组，或者是两段递增数组，且第一个数大于最后一个数\n",
    "\n",
    "怎么用二分找到数组的最小值？\n",
    "\n",
    "我们需要一个判定方式来确定二分的位置是在最小值的左侧还是右侧\n",
    "\n",
    "定义红色为最小值左侧元素，蓝色为最小值或其右侧元素\n",
    "\n",
    "由于最小值一定在数组中，那么最后一个值要么是最小值，要么在最小值右侧，所以一定是蓝色的\n",
    "\n",
    "那么我们在二分的时候，和上一题类似，可以初始化左指针为 0，右指针为 n-2\n",
    "\n",
    "我们可以通过比较 M 和最后一个值进行染色\n",
    "\n",
    "如果是小于，那么说明它在一段递增数组中，或是在两段递增数组中的第二段\n",
    "\n",
    "无论哪种情况，M 要么是最小值，要么在最小值的右侧，因此 M 及其右侧值均为蓝色\n",
    "\n",
    "如果是大于，那么说明它只可能在两段递增数组中的第一段，也就是说在最小值左侧，染为红色"
   ]
  },
  {
   "cell_type": "code",
   "execution_count": null,
   "metadata": {},
   "outputs": [],
   "source": [
    "class Solution:\n",
    "    def findMin(self, nums: List[int]) -> int:\n",
    "        left = 0\n",
    "        right = len(nums) - 2\n",
    "        while left <= right:\n",
    "            mid = (left + right) // 2\n",
    "            if nums[mid] < nums[-1]:\n",
    "                right = mid - 1\n",
    "            else:\n",
    "                left = mid + 1\n",
    "        return nums[left]"
   ]
  },
  {
   "cell_type": "markdown",
   "metadata": {},
   "source": [
    "### 33. 搜索旋转排序数组\n",
    "\n",
    "https://leetcode.cn/problems/search-in-rotated-sorted-array/"
   ]
  },
  {
   "cell_type": "markdown",
   "metadata": {},
   "source": [
    "与上一题类似，区别在于不找最小值，而是找给定的 target，target 可能不在数组中\n",
    "\n",
    "第一种做法：首先找到最小值，然后比较 target 和最后一个数的大小，在两段数组之一找 target\n",
    "\n",
    "第二种做法：只用一次二分\n",
    "\n",
    "如果某个数大于最后一个数，那么说明它在两段递增数组的第一段中，否则在第二段中\n",
    "\n",
    "定义 target 左侧为红色，target 及其右侧为蓝色\n",
    "\n",
    "总结下 M 及其右侧是蓝色的情况，也就是能确定 M 为 target 或在其右侧的情况\n",
    "\n",
    "一、M 在第一段，target 在第一段，M 大于等于 target\n",
    "\n",
    "二、M 在第二段，target 在第二段，M 大于等于 target\n",
    "\n",
    "三、M 在第二段，target 在第一段"
   ]
  },
  {
   "cell_type": "code",
   "execution_count": null,
   "metadata": {},
   "outputs": [],
   "source": [
    "class Solution:\n",
    "    def search(self, nums: List[int], target: int) -> int:\n",
    "        def is_blue(n_mid):\n",
    "            cond1 = n_mid > nums[-1] and target > nums[-1] and n_mid >= target\n",
    "            cond2 = n_mid <= nums[-1] and target <= nums[-1] and n_mid >= target\n",
    "            cond3 = n_mid <= nums[-1] and target > nums[-1]\n",
    "            return cond1 or cond2 or cond3\n",
    "        left = 0\n",
    "        right = len(nums) - 1\n",
    "        while left <= right:\n",
    "            mid = (left + right) // 2\n",
    "            if is_blue(nums[mid]):\n",
    "                right = mid - 1\n",
    "            else:\n",
    "                left = mid + 1\n",
    "        if left == len(nums) or nums[left] != target:\n",
    "            return -1\n",
    "        return left"
   ]
  },
  {
   "cell_type": "markdown",
   "metadata": {},
   "source": [
    "## 课后作业"
   ]
  },
  {
   "cell_type": "markdown",
   "metadata": {},
   "source": [
    "### 1901. 寻找峰值 II\n",
    "\n",
    "https://leetcode.cn/problems/find-a-peak-element-ii/"
   ]
  },
  {
   "cell_type": "code",
   "execution_count": null,
   "metadata": {},
   "outputs": [],
   "source": [
    "class Solution:\n",
    "    def findPeakGrid(self, mat: List[List[int]]) -> List[int]:\n",
    "        # 对行号进行二分\n",
    "        left = 0\n",
    "        # 灵活设置二分右边界，避免边界判断\n",
    "        right = len(mat) - 2\n",
    "        while left <= right:\n",
    "            mid = (left + right) // 2\n",
    "            val = max(mat[mid])\n",
    "            col = mat[mid].index(val)\n",
    "            # 如果当前行最大值大于其下一行相邻值\n",
    "            # 那么当前行及其以上存在峰值\n",
    "            if val > mat[mid+1][col]:\n",
    "                right = mid - 1\n",
    "            # 否则当前行以下存在峰值\n",
    "            else:\n",
    "                left = mid + 1\n",
    "        # 返回峰值位置\n",
    "        return [left, mat[left].index(max(mat[left]))]"
   ]
  },
  {
   "cell_type": "markdown",
   "metadata": {},
   "source": [
    "### 154. 寻找旋转排序数组中的最小值 II\n",
    "\n",
    "https://leetcode.cn/problems/find-minimum-in-rotated-sorted-array-ii/"
   ]
  },
  {
   "cell_type": "code",
   "execution_count": null,
   "metadata": {},
   "outputs": [],
   "source": [
    "class Solution:\n",
    "    def findMin(self, nums: List[int]) -> int:\n",
    "        left = 0\n",
    "        # 本题存在相同元素，如果二分位置与末位的值相等，则无法判断左右\n",
    "        # 通过去掉左侧与末位相等的值，保证大于末位的值都在左侧，小于等于末位的值都在右侧\n",
    "        while left < len(nums) and nums[left] == nums[-1]:\n",
    "            left += 1\n",
    "        right = len(nums) - 2\n",
    "        while left <= right:\n",
    "            mid = (left + right) // 2\n",
    "            if nums[mid] > nums[-1]:\n",
    "                left = mid + 1\n",
    "            else:\n",
    "                right = mid - 1\n",
    "        # 这里为了避免左指针越界，使用了等价的 right + 1\n",
    "        return nums[right + 1]"
   ]
  }
 ],
 "metadata": {
  "kernelspec": {
   "display_name": "base",
   "language": "python",
   "name": "python3"
  },
  "language_info": {
   "name": "python",
   "version": "3.12.3"
  }
 },
 "nbformat": 4,
 "nbformat_minor": 2
}
